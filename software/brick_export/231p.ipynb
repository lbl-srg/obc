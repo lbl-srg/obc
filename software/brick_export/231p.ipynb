{
 "cells": [
  {
   "cell_type": "code",
   "execution_count": 1,
   "metadata": {},
   "outputs": [],
   "source": [
    "import brickschema\n",
    "from brickschema.namespaces import BRICK, RDFS, RDF\n",
    "import json\n",
    "from element_relationship import Element_Relationship_Extractor\n",
    "import rdflib"
   ]
  },
  {
   "cell_type": "code",
   "execution_count": 2,
   "metadata": {},
   "outputs": [
    {
     "data": {
      "text/plain": [
       "{'model': 'Buildings.Controls.OBC.ASHRAE.G36_PR1.TerminalUnits.Controller',\n",
       " 'generate_json': True}"
      ]
     },
     "execution_count": 2,
     "metadata": {},
     "output_type": "execute_result"
    }
   ],
   "source": [
    "with open(\"config-cdl.json\") as fp:\n",
    "    config = json.load(fp)\n",
    "config\n"
   ]
  },
  {
   "cell_type": "code",
   "execution_count": 3,
   "metadata": {},
   "outputs": [],
   "source": [
    "element_extractor = Element_Relationship_Extractor(config_file = \"config-cdl.json\");"
   ]
  },
  {
   "cell_type": "code",
   "execution_count": 4,
   "metadata": {},
   "outputs": [],
   "source": [
    "elements, relationships = element_extractor.extract_class_definition()"
   ]
  },
  {
   "cell_type": "code",
   "execution_count": 9,
   "metadata": {},
   "outputs": [],
   "source": [
    "graph = {}\n",
    "bldg_graph = brickschema.Graph()\n",
    "BLDG = rdflib.Namespace(\"urn:bldg/\")\n",
    "bldg_graph.bind(\"bldg\", BLDG)\n",
    "ref_ns = rdflib.Namespace(\"https://brickschema.org/schema/Brick/ref#\")\n",
    "cdl_ns = rdflib.Namespace(\"http://data.ashrae.org/cdl#\")\n",
    "bldg_graph.bind(\"cdl\", cdl_ns)"
   ]
  },
  {
   "cell_type": "code",
   "execution_count": 11,
   "metadata": {},
   "outputs": [],
   "source": [
    "parameters = []\n",
    "inputs = []\n",
    "outputs = []\n",
    "\n",
    "for element in elements:\n",
    "    type_specifier = elements[element].get('type_specifier', None)\n",
    "    type_prefix = elements[element].get('type_prefix', None)\n",
    "    if type_specifier is not None and ('RealInput' in type_specifier or 'IntegerInput' in type_specifier):\n",
    "        bldg_graph.add((BLDG[element], rdflib.RDF.type, cdl_ns['AnalogInput']))\n",
    "    elif type_specifier is not None and 'BooleanInput' in type_specifier:\n",
    "        bldg_graph.add((BLDG[element], rdflib.RDF.type, cdl_ns['BinaryInput']))\n",
    "    elif type_specifier is not None and ('RealOutput' in type_specifier or 'IntegerOutput' in type_specifier):\n",
    "        bldg_graph.add((BLDG[element], rdflib.RDF.type, cdl_ns['AnalogOutput']))\n",
    "    elif type_specifier is not None and 'BooleanOutput' in type_specifier:\n",
    "        bldg_graph.add((BLDG[element], rdflib.RDF.type, cdl_ns['BinaryOutput']))\n",
    "    elif type_prefix is not None and \"parameter\" in elements[element].get('type_prefix'):\n",
    "        bldg_graph.add((BLDG[element], rdflib.RDF.type, cdl_ns['Parameter']))"
   ]
  },
  {
   "cell_type": "code",
   "execution_count": 13,
   "metadata": {},
   "outputs": [
    {
     "data": {
      "text/plain": [
       "<Graph identifier=Nf3e92f8d2ef3448d8dee27ec56513e68 (<class 'brickschema.graph.Graph'>)>"
      ]
     },
     "execution_count": 13,
     "metadata": {},
     "output_type": "execute_result"
    }
   ],
   "source": [
    "bldg_graph.serialize(destination='{}_231p.ttl'.format(config.get('model')), format='turtle')"
   ]
  },
  {
   "cell_type": "code",
   "execution_count": null,
   "metadata": {},
   "outputs": [],
   "source": []
  }
 ],
 "metadata": {
  "kernelspec": {
   "display_name": "Python 3",
   "language": "python",
   "name": "python3"
  },
  "language_info": {
   "codemirror_mode": {
    "name": "ipython",
    "version": 3
   },
   "file_extension": ".py",
   "mimetype": "text/x-python",
   "name": "python",
   "nbconvert_exporter": "python",
   "pygments_lexer": "ipython3",
   "version": "3.8.3"
  }
 },
 "nbformat": 4,
 "nbformat_minor": 4
}
