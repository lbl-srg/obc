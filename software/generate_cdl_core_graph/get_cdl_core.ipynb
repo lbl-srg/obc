{
 "cells": [
  {
   "cell_type": "code",
   "execution_count": 1,
   "metadata": {},
   "outputs": [],
   "source": [
    "import os\n",
    "import sys\n",
    "import subprocess\n",
    "import json\n",
    "import rdflib\n",
    "from rdflib import RDF, RDFS"
   ]
  },
  {
   "cell_type": "code",
   "execution_count": 2,
   "metadata": {},
   "outputs": [],
   "source": [
    "modelicaPathStr = os.environ['MODELICAPATH']\n",
    "modelicaJsonPath = os.environ['MODELICAJSONPATH']\n",
    "modelicaPaths = modelicaPathStr.split(':')\n",
    "index = 0\n",
    "for modelicaPath in modelicaPaths:\n",
    "    subFolders = os.listdir(modelicaPath)\n",
    "    if 'Buildings' not in subFolders:\n",
    "        index+=1\n",
    "        continue\n",
    "    else:\n",
    "        break\n",
    "buildingsLibraryPath = modelicaPaths[index]"
   ]
  },
  {
   "cell_type": "code",
   "execution_count": 3,
   "metadata": {},
   "outputs": [
    {
     "name": "stdout",
     "output_type": "stream",
     "text": [
      "CDL package exists at: /Users/akprakash/Programming/modelica/modelica-buildings/Buildings/Controls/OBC/CDL\n"
     ]
    }
   ],
   "source": [
    "cdlPackagePath = os.path.join(buildingsLibraryPath, 'Buildings', 'Controls', 'OBC', 'CDL')\n",
    "if os.path.exists(cdlPackagePath):\n",
    "    print(f'CDL package exists at: {cdlPackagePath}')"
   ]
  },
  {
   "cell_type": "code",
   "execution_count": 4,
   "metadata": {},
   "outputs": [],
   "source": [
    "def runModelicaJson(model, outputDir, modelicaJsonPath):\n",
    "    \"\"\"This function uses the modelica-json tool to generate instances of a modelica model using the semantic output.\n",
    "\n",
    "    Parameters:\n",
    "    -----------\n",
    "    model : str\n",
    "            Absolute path to modelica model whose instances will be generated.\n",
    "    outputDir : str\n",
    "            Directory where to store the json output.\n",
    "    \"\"\"\n",
    "    appJsPath = os.path.join(modelicaJsonPath, 'app.js')\n",
    "    result = subprocess.run(['node', '{}'.format(appJsPath), '-f', '{}'.format(model),\n",
    "                             '-d', '{}'.format(outputDir), '-o', 'semantic'],\n",
    "                            stdout=subprocess.PIPE, shell=False)\n",
    "\n",
    "    if result.returncode != 0:\n",
    "        raise Exception(\"Error while converting modelica file to json = {0}.\".format(result.stdout.decode(\"utf-8\")))"
   ]
  },
  {
   "cell_type": "code",
   "execution_count": 5,
   "metadata": {},
   "outputs": [
    {
     "data": {
      "text/plain": [
       "['objects', 'json']"
      ]
     },
     "execution_count": 5,
     "metadata": {},
     "output_type": "execute_result"
    }
   ],
   "source": [
    "os.listdir('temp')"
   ]
  },
  {
   "cell_type": "code",
   "execution_count": 6,
   "metadata": {},
   "outputs": [],
   "source": [
    "def traverseFolder(folderPath):\n",
    "    folderContents = os.listdir(folderPath)\n",
    "    cdlElementaryBlocks = []\n",
    "    for content in folderContents:\n",
    "        contentPath = os.path.join(folderPath, content)\n",
    "        if os.path.isdir(contentPath):\n",
    "            if content != 'Validation' and content != 'Examples':\n",
    "                newCdlElementaryBlocks = traverseFolder(contentPath)\n",
    "                cdlElementaryBlocks = cdlElementaryBlocks + newCdlElementaryBlocks\n",
    "        else:\n",
    "            if content != 'package.order' and content != 'package.mo':\n",
    "                cdlElementaryBlocks.append(contentPath)\n",
    "    return cdlElementaryBlocks"
   ]
  },
  {
   "cell_type": "code",
   "execution_count": 18,
   "metadata": {},
   "outputs": [],
   "source": [
    "def parseCdlInstances(instances, blockName, graph, ns231p):\n",
    "    instanceCategoryDict = {}\n",
    "    for instance in instances:\n",
    "        instanceDict = instances.get(instance)\n",
    "        if instanceDict == None:\n",
    "            # TODO: handle later\n",
    "            pass  \n",
    "        elif instanceDict.get('type', '') == 'enumeration': \n",
    "            # TODO: handle this\n",
    "            pass\n",
    "        elif instanceDict.get('type', '') == 'long_class_specifier':\n",
    "            #do nothing, because its not an instance of the block\n",
    "            pass\n",
    "        elif instanceDict.get('type', '') == 'element':\n",
    "            if instanceDict.get('type_prefix', '') == 'parameter': ## todo: handle constant\n",
    "                value = {\n",
    "                    instance: {}\n",
    "                }\n",
    "                graph.add((ns231p[blockName], ns231p['hasParameter'], ns231p[f'{blockName}#{instance}']))\n",
    "                graph.add((ns231p[f'{blockName}#{instance}'], rdflib.RDF['type'], ns231p['Parameter']))\n",
    "#                 graph.add((ns231p[f'{blockName}#{instance}'], rdflib.RDFS['label'], f'{instance}'))\n",
    "                \n",
    "#                 description = instanceDict.get('single_component_list')\n",
    "#                 graph.add((ns231p[f'{blockName}#{instance}'], rdflib.RDFS['comment'], f'{description}'))\n",
    "\n",
    "#                 datatype = \n",
    "#                 graph.add((ns231p[f'{blockName}#{instance}'], ns231p['hasDatatype'], f'{datatype}'))\n",
    "                \n",
    "#                 accessSpecifier = \n",
    "#                 graph.add((ns231p[f'{blockName}#{instance}'], rdflib.RDFS['accessSpecifier'], f'{accessSpecifier}'))\n",
    "                \n",
    "#                 value = \n",
    "#                 graph.add((ns231p[f'{blockName}#{instance}'], rdflib.RDFS['hasValue'], f'{value}'))\n",
    "                \n",
    "#                 start = \n",
    "#                 graph.add((ns231p[f'{blockName}#{instance}'], rdflib.RDFS['hasStartValue'], f'{start}'))\n",
    "                \n",
    "#                 nominal = \n",
    "#                 graph.add((ns231p[f'{blockName}#{instance}'], rdflib.RDFS['hasNominalValue'], f'{nominal}'))\n",
    "                \n",
    "#                 fixed = \n",
    "#                 graph.add((ns231p[f'{blockName}#{instance}'], rdflib.RDFS['hasFixedValue'], f'{fixed}'))\n",
    "                \n",
    "#                 default = \n",
    "#                 graph.add((ns231p[f'{blockName}#{instance}'], rdflib.RDFS['hasDefaultValue'], f'{default}'))\n",
    "                \n",
    "#                 minValue = \n",
    "#                 graph.add((ns231p[f'{blockName}#{instance}'], rdflib.RDFS['hasMinValue'], f'{minValue}'))\n",
    "                \n",
    "#                 maxValue = \n",
    "#                 graph.add((ns231p[f'{blockName}#{instance}'], rdflib.RDFS['hasMaxValue'], f'{maxValue}'))\n",
    "                             \n",
    "#                 quantity = \n",
    "#                 graph.add((ns231p[f'{blockName}#{instance}'], rdflib.RDFS['quantity'], f'{quantity}'))\n",
    "                \n",
    "#                 unit = \n",
    "#                 graph.add((ns231p[f'{blockName}#{instance}'], rdflib.RDFS['hasUnit'], f'{unit}'))\n",
    "                \n",
    "#                 displayUnit = \n",
    "#                 graph.add((ns231p[f'{blockName}#{instance}'], rdflib.RDFS['hasDisplayUnit'], f'{displayUnit}'))\n",
    "                \n",
    "#                 cdlLineNumStart = \n",
    "#                 graph.add((ns231p[f'{blockName}#{instance}'], rdflib.RDFS['hasCdlLineNumStart'], f'{cdlLineNumStart}'))\n",
    "                \n",
    "#                 cdlLineNumEnd = \n",
    "#                 graph.add((ns231p[f'{blockName}#{instance}'], rdflib.RDFS['hasCdlLineNumEnd'], f'{cdlLineNumEnd}'))\n",
    "                \n",
    "#                 if 'parameters' in instanceCategoryDict:\n",
    "#                     instanceCategoryDict['parameters'].append(value)\n",
    "#                 else:\n",
    "#                     instanceCategoryDict['parameters'] = [value]\n",
    "            elif instanceDict.get('type_prefix', '') == '':\n",
    "                if instanceDict.get('type_specifier', '').endswith('IntegerInput') or instanceDict.get('type_specifier', '').endswith('BooleanInput') or instanceDict.get('type_specifier', '').endswith('RealInput'):\n",
    "                    value = {\n",
    "                        instance: {}\n",
    "                    }\n",
    "                    graph.add((ns231p[blockName], ns231p['hasInput'], ns231p[f'{blockName}#{instance}']))\n",
    "                    graph.add((ns231p[f'{blockName}#{instance}'], rdflib.RDF['type'], ns231p['InputConnector']))\n",
    "#                     if 'inputs' in instanceCategoryDict:\n",
    "#                         instanceCategoryDict['inputs'].append(value)\n",
    "#                     else:\n",
    "#                         instanceCategoryDict['inputs'] = [value]\n",
    "                if instanceDict.get('type_specifier', '').endswith('IntegerOutput') or instanceDict.get('type_specifier', '').endswith('BooleanOutput') or instanceDict.get('type_specifier', '').endswith('RealOutput'):\n",
    "                    value = {\n",
    "                        instance: {}\n",
    "                    }\n",
    "                    graph.add((ns231p[blockName], ns231p['hasOutput'], ns231p[f'{blockName}#{instance}']))\n",
    "\n",
    "                    graph.add((ns231p[f'{blockName}#{instance}'], rdflib.RDF['type'], ns231p['OutputConnector']))\n",
    "#                     if 'outputs' in instanceCategoryDict:\n",
    "#                         instanceCategoryDict['outputs'].append(value)\n",
    "#                     else:\n",
    "#                         instanceCategoryDict['outputs'] = [value]\n",
    "    return instanceCategoryDict, graph"
   ]
  },
  {
   "cell_type": "code",
   "execution_count": 19,
   "metadata": {},
   "outputs": [],
   "source": [
    "cdlCore = rdflib.Graph()\n",
    "ns231p = rdflib.Namespace('https://data.ashrae.org/S231/')\n",
    "cdlCore.bind('s231', ns231p)"
   ]
  },
  {
   "cell_type": "code",
   "execution_count": 20,
   "metadata": {},
   "outputs": [],
   "source": [
    "blocks = traverseFolder(cdlPackagePath)\n",
    "outputDir = 'temp'\n",
    "for block in blocks:\n",
    "    runModelicaJson(block, outputDir, modelicaJsonPath)\n",
    "    blockName = block.split(os.path.join(buildingsLibraryPath, 'Buildings', 'Controls', 'OBC')+os.sep)[1]\n",
    "    blockName = blockName.split(\".mo\")[0]\n",
    "    objectsOutput = os.path.join(outputDir, 'objects', 'Buildings', 'Controls', 'OBC', blockName+'.json')\n",
    "    if os.path.exists(objectsOutput):\n",
    "        with open(objectsOutput) as fp:\n",
    "            objects = json.load(fp)\n",
    "    else:\n",
    "        objects = {}\n",
    "    blockName = blockName.replace(os.sep, '.')\n",
    "    blockName = f'CXF.{blockName.split(\"CDL.\")[-1]}'\n",
    "    cdlCore.add((ns231p[blockName], RDFS.subClassOf, ns231p['ElementaryBlock']))\n",
    "    instanceDict, cdlCore = parseCdlInstances(objects.get('instances', {}), blockName, cdlCore, ns231p)\n",
    "\n",
    "# TODO: unit tests - regenerate cxf-core and make sure it hasn't changed"
   ]
  },
  {
   "cell_type": "code",
   "execution_count": 22,
   "metadata": {},
   "outputs": [
    {
     "data": {
      "text/plain": [
       "<Graph identifier=N194b6afad8d04a63b3a24c8c0efa5a20 (<class 'rdflib.graph.Graph'>)>"
      ]
     },
     "execution_count": 22,
     "metadata": {},
     "output_type": "execute_result"
    }
   ],
   "source": [
    "cdlCore.serialize('CXF-core.jsonld', format='json-ld')"
   ]
  },
  {
   "cell_type": "markdown",
   "metadata": {},
   "source": [
    "## questions for MW & JH:\n",
    "- Validation folder? \n",
    "- cdl.reals.sources.validation\n",
    "- cdl.discrete.examples?"
   ]
  },
  {
   "cell_type": "code",
   "execution_count": null,
   "metadata": {},
   "outputs": [],
   "source": []
  }
 ],
 "metadata": {
  "kernelspec": {
   "display_name": "Python 3",
   "language": "python",
   "name": "python3"
  },
  "language_info": {
   "codemirror_mode": {
    "name": "ipython",
    "version": 3
   },
   "file_extension": ".py",
   "mimetype": "text/x-python",
   "name": "python",
   "nbconvert_exporter": "python",
   "pygments_lexer": "ipython3",
   "version": "3.8.3"
  }
 },
 "nbformat": 4,
 "nbformat_minor": 4
}
