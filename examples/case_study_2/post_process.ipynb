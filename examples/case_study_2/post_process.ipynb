{
 "cells": [
  {
   "cell_type": "markdown",
   "metadata": {},
   "source": [
    "# Post-processing of case studies\n",
    "\n",
    "## Usage notes\n",
    "\n",
    "All figures will be written to the directory `img` as pdf and png files.\n",
    "\n",
    "I run this notebook on Ubuntu, using this version of matplotlib:\n",
    "```\n",
    "pip freeze | grep matplotlib\n",
    "matplotlib==2.1.0\n",
    "```\n",
    "Some older versions return an error because they do not support some plot configurations.\n",
    "I set in the virtual machine the RAM to 12GB as 8GB is not sufficient to parse two annual result files.\n",
    "\n",
    "## *mg notes\n",
    "- set up Optimica simulations - use master of BuildingsPy, run make html to see examples"
   ]
  },
  {
   "cell_type": "markdown",
   "metadata": {},
   "source": [
    "## Import required libraries"
   ]
  },
  {
   "cell_type": "code",
   "execution_count": 1,
   "metadata": {},
   "outputs": [],
   "source": [
    "import os\n",
    "import cases\n",
    "\n",
    "import matplotlib\n",
    "matplotlib.use('Agg')\n",
    "import matplotlib.pyplot as plt\n",
    "from matplotlib.gridspec import GridSpec\n",
    "\n",
    "from buildingspy.io.outputfile import Reader\n",
    "from buildingspy.io.postprocess import Plotter"
   ]
  },
  {
   "cell_type": "markdown",
   "metadata": {},
   "source": [
    "## Load in simulation results"
   ]
  },
  {
   "cell_type": "code",
   "execution_count": 2,
   "metadata": {},
   "outputs": [],
   "source": [
    "# Helper methods\n",
    "\n",
    "def get_results(case_name, simulation_engines = [\"dymola\", \"optimica\"]):\n",
    "    \"\"\" Get the results for the case with name `case_name`\n",
    "    \"\"\"\n",
    "    for sim_eng in simulation_engines:\n",
    "        # To make sure simulation was successful\n",
    "\n",
    "        # For results generated using Dymola\n",
    "        if sim_eng == \"dymola\":\n",
    "            simulator = sim_eng\n",
    "            dslog_name = os.path.join(\"simulations\", sim_eng, case_name, \"dslog.txt\")\n",
    "            with open(dslog_name) as dslog:\n",
    "                if not \"Integration terminated successfully\" in dslog.read():\n",
    "                    raise Exception(\"Simulation failed. Check {}\".format(dslog_name))\n",
    "\n",
    "        # For results generated using Optimica\n",
    "        elif sim_eng == \"optimica\":\n",
    "            simulator = sim_eng\n",
    "            for file in os.listdir(os.path.join(\"simulations\", sim_eng, case_name):\n",
    "                if '.json' in file:\n",
    "                    json_log_name = os.path.join(\"simulations\", sim_eng, case_name, file)\n",
    "                    import json\n",
    "                    if not json.load(open(log_name))[\"translation\"][\"success\"]:\n",
    "                        raise Exception(\"Simulation failed. Check {}\".format(json_log_name))\n",
    "        \n",
    "        else:\n",
    "            raise Exception(\"Simulation log found for neither supported simulation engine.\")\n",
    "\n",
    "    file_name = cases.get_result_fullpath(case_name, simulator)\n",
    "    \n",
    "    return Reader(file_name, simulator)\n",
    "\n",
    "\n",
    "def get_partial_results(case_name, list_of_variables) # mg*: dataframe = False):\n",
    "    \"\"\" Get a dictionary with the variable names and the time series for `list_of_variables`\n",
    "    \"\"\"\n",
    "    reader = get_results(case_name)\n",
    "    d = dict()\n",
    "    read_time = True\n",
    "    for v in list_of_variables:\n",
    "        if read_time:\n",
    "            d['time'] = reader.values(v)[0]\n",
    "            read_time = False\n",
    "        d[v] = reader.values(v)[1]\n",
    "    return d"
   ]
  },
  {
   "cell_type": "code",
   "execution_count": 24,
   "metadata": {},
   "outputs": [
    {
     "output_type": "execute_result",
     "data": {
      "text/plain": [
       "True"
      ]
     },
     "metadata": {},
     "execution_count": 24
    }
   ],
   "source": [
    "os.listdir(os.path.join(\"simulations\", \"base_test\"))\n",
    "log_name = os.path.join(\"simulations\", case_name, 'ChillerPlant_ClosedLoopBase_OneDeviceWithWSE_buildingspy.json')\n"
   ]
  },
  {
   "cell_type": "code",
   "execution_count": 3,
   "metadata": {},
   "outputs": [
    {
     "output_type": "error",
     "ename": "FileNotFoundError",
     "evalue": "[Errno 2] No such file or directory: 'simulations/base_test/dslog.txt'",
     "traceback": [
      "\u001b[0;31m---------------------------------------------------------------------------\u001b[0m",
      "\u001b[0;31mFileNotFoundError\u001b[0m                         Traceback (most recent call last)",
      "\u001b[0;32m<ipython-input-3-1c21081b409b>\u001b[0m in \u001b[0;36m<module>\u001b[0;34m\u001b[0m\n\u001b[1;32m      4\u001b[0m \u001b[0;34m\u001b[0m\u001b[0m\n\u001b[1;32m      5\u001b[0m \u001b[0;32mfor\u001b[0m \u001b[0mcase_name\u001b[0m \u001b[0;32min\u001b[0m \u001b[0mall_case_names\u001b[0m\u001b[0;34m:\u001b[0m\u001b[0;34m\u001b[0m\u001b[0;34m\u001b[0m\u001b[0m\n\u001b[0;32m----> 6\u001b[0;31m     \u001b[0mres\u001b[0m\u001b[0;34m[\u001b[0m\u001b[0mcase_name\u001b[0m\u001b[0;34m]\u001b[0m \u001b[0;34m=\u001b[0m \u001b[0mget_results\u001b[0m\u001b[0;34m(\u001b[0m\u001b[0mcase_name\u001b[0m\u001b[0;34m)\u001b[0m\u001b[0;34m\u001b[0m\u001b[0;34m\u001b[0m\u001b[0m\n\u001b[0m\u001b[1;32m      7\u001b[0m \u001b[0;34m\u001b[0m\u001b[0m\n\u001b[1;32m      8\u001b[0m \u001b[0mprint\u001b[0m\u001b[0;34m(\u001b[0m\u001b[0;34m\"Read in simulation results.\"\u001b[0m\u001b[0;34m)\u001b[0m\u001b[0;34m\u001b[0m\u001b[0;34m\u001b[0m\u001b[0m\n",
      "\u001b[0;32m<ipython-input-2-0db779b8f65f>\u001b[0m in \u001b[0;36mget_results\u001b[0;34m(case_name)\u001b[0m\n\u001b[1;32m      6\u001b[0m     \u001b[0;31m# Make sure simulation was successful\u001b[0m\u001b[0;34m\u001b[0m\u001b[0;34m\u001b[0m\u001b[0;34m\u001b[0m\u001b[0m\n\u001b[1;32m      7\u001b[0m     \u001b[0mdslog_name\u001b[0m \u001b[0;34m=\u001b[0m \u001b[0mos\u001b[0m\u001b[0;34m.\u001b[0m\u001b[0mpath\u001b[0m\u001b[0;34m.\u001b[0m\u001b[0mjoin\u001b[0m\u001b[0;34m(\u001b[0m\u001b[0;34m\"simulations\"\u001b[0m\u001b[0;34m,\u001b[0m \u001b[0mcase_name\u001b[0m\u001b[0;34m,\u001b[0m \u001b[0;34m\"dslog.txt\"\u001b[0m\u001b[0;34m)\u001b[0m\u001b[0;34m\u001b[0m\u001b[0;34m\u001b[0m\u001b[0m\n\u001b[0;32m----> 8\u001b[0;31m     \u001b[0;32mwith\u001b[0m \u001b[0mopen\u001b[0m\u001b[0;34m(\u001b[0m\u001b[0mdslog_name\u001b[0m\u001b[0;34m)\u001b[0m \u001b[0;32mas\u001b[0m \u001b[0mdslog\u001b[0m\u001b[0;34m:\u001b[0m\u001b[0;34m\u001b[0m\u001b[0;34m\u001b[0m\u001b[0m\n\u001b[0m\u001b[1;32m      9\u001b[0m         \u001b[0;32mif\u001b[0m \u001b[0;32mnot\u001b[0m \u001b[0;34m\"Integration terminated successfully\"\u001b[0m \u001b[0;32min\u001b[0m \u001b[0mdslog\u001b[0m\u001b[0;34m.\u001b[0m\u001b[0mread\u001b[0m\u001b[0;34m(\u001b[0m\u001b[0;34m)\u001b[0m\u001b[0;34m:\u001b[0m\u001b[0;34m\u001b[0m\u001b[0;34m\u001b[0m\u001b[0m\n\u001b[1;32m     10\u001b[0m             \u001b[0;32mraise\u001b[0m \u001b[0mException\u001b[0m\u001b[0;34m(\u001b[0m\u001b[0;34m\"Simulation failed. Check {}\"\u001b[0m\u001b[0;34m.\u001b[0m\u001b[0mformat\u001b[0m\u001b[0;34m(\u001b[0m\u001b[0mdslog_name\u001b[0m\u001b[0;34m)\u001b[0m\u001b[0;34m)\u001b[0m\u001b[0;34m\u001b[0m\u001b[0;34m\u001b[0m\u001b[0m\n",
      "\u001b[0;31mFileNotFoundError\u001b[0m: [Errno 2] No such file or directory: 'simulations/base_test/dslog.txt'"
     ]
    }
   ],
   "source": [
    "all_case_names = cases.get_list_of_case_names()\n",
    "\n",
    "res = dict()\n",
    "\n",
    "for case_name in all_case_names:\n",
    "    res[case_name] = get_results(case_name)\n",
    "\n",
    "print(\"Read in simulation results.\")"
   ]
  },
  {
   "cell_type": "code",
   "execution_count": 9,
   "metadata": {},
   "outputs": [
    {
     "output_type": "execute_result",
     "data": {
      "text/plain": [
       "array([0.0000000e+00, 1.5937864e+04, 1.5937864e+04, ..., 2.3906289e+09,\n",
       "       2.3906289e+09, 2.3907543e+09], dtype=float32)"
      ]
     },
     "metadata": {},
     "execution_count": 9
    }
   ],
   "source": [
    "# Look at some resulting variables\n",
    "cases.get_list_of_case_names()\n",
    "# res['test_base'].varNames()\n",
    "(t, P_agg) = res['base_test'].values(\"PChiWatPumAgg.y\")\n",
    "t[0:10]\n",
    "P_agg[:-1]"
   ]
  },
  {
   "cell_type": "markdown",
   "metadata": {},
   "source": [
    "## Configure plots"
   ]
  },
  {
   "cell_type": "code",
   "execution_count": 7,
   "metadata": {},
   "outputs": [],
   "source": [
    "plt.rcParams['axes.facecolor']='whitesmoke'\n",
    "plt.rcParams['font.size'] = 6\n",
    "plt.rcParams['text.usetex'] = False\n",
    "plt.rcParams['legend.facecolor'] = 'white'\n",
    "plt.rcParams['legend.framealpha'] = 0.75\n",
    "plt.rcParams['legend.edgecolor'] = 'none'\n",
    "plt.rcParams['savefig.dpi'] = 300\n",
    "\n",
    "def save_plot(figure, file_name):\n",
    "    \"\"\" Save the figure to a pdf and png file in the directory `img`\n",
    "    \"\"\"\n",
    "    import os\n",
    "    import matplotlib.pyplot as plt\n",
    "    \n",
    "    out_dir = \"img\"\n",
    "    if not os.path.exists(out_dir):\n",
    "        os.makedirs(out_dir)\n",
    "    figure.savefig(os.path.join(out_dir, '{}.pdf'.format(file_name)))\n",
    "    figure.savefig(os.path.join(out_dir, '{}.png'.format(file_name)))\n",
    "    plt.clf()\n",
    "    \n",
    "\n",
    "def configure_axes(axes):\n",
    "    \"\"\" Configure the axis style\n",
    "    \"\"\"\n",
    "    axes.spines['right'].set_visible(False)\n",
    "    axes.spines['top'].set_visible(False)\n",
    "    axes.spines['left'].set_visible(False)\n",
    "    axes.spines['bottom'].set_visible(False)\n",
    "    axes.grid(color='lightgrey', linewidth=0.25)\n",
    "    return\n",
    "\n",
    "\n",
    "# ---------------------------------------------------------------------------\n",
    "# helper functions and scripts\n",
    "\n",
    "def set_cases_and_initiate_plot():\n",
    "    from matplotlib.gridspec import GridSpec\n",
    "    cases = ['test_base', 'test_1711']\n",
    "    seasons = ['']\n",
    "    num_cases = len(cases)\n",
    "    num_seasons = len(seasons)\n",
    "    \n",
    "    fig = plt.figure(figsize=(6.5,8.))\n",
    "    gs1 = GridSpec(80, 1)\n",
    "    gs1.update(left=0.1, right=0.9, hspace=0.05)\n",
    "    \n",
    "    ax = list()\n",
    "    ax.insert(0, fig.add_subplot(gs1[0:11,:]))\n",
    "    ax.insert(1, fig.add_subplot(gs1[12:23,:]))\n",
    "    ax.insert(2, fig.add_subplot(gs1[28:39,:]))\n",
    "    ax.insert(3, fig.add_subplot(gs1[40:51,:]))\n",
    "    ax.insert(4, fig.add_subplot(gs1[56:67,:]))\n",
    "    ax.insert(5, fig.add_subplot(gs1[68:79,:]))\n",
    "    \n",
    "    # fig, ax = plt.subplots(nrows=num_cases*num_seasons, ncols=1, figsize = (6.5,8.))\n",
    "    # fig, ax = plt.subplots(nrows=20, ncols=1, figsize = (6.5,8.))\n",
    "    \n",
    "    return cases, seasons, num_cases, num_seasons, fig, ax\n",
    "\n",
    "def set_title(ax, title):\n",
    "    left, width = .01, .97\n",
    "    bottom, height = .01, .88\n",
    "    right = left + width\n",
    "    top = bottom + height\n",
    "    \n",
    "    title_str = r\"$\\it{\" + title + \"}$\"\n",
    "    ax.text(left, top,\n",
    "            title_str,\n",
    "            verticalalignment = 'center',\n",
    "            horizontalalignment = 'left', \n",
    "            transform=ax.transAxes,\n",
    "            fontsize = 6, color = 'k',\n",
    "            bbox=dict(facecolor='white', alpha=0.75, edgecolor='none'))\n",
    "    \n",
    "    \n",
    "def set_up_labels(i, ax, cases, seasons, num_cases, num_seasons, x_axis_label, y_axis_label):\n",
    "    # Hide xtick labels and ticks on the upper case subplot (each basecase)\n",
    "    if i % 2 == 0:\n",
    "        hide_tick_labels(ax)\n",
    "\n",
    "    # Print x axis title only below the lowest subplot\n",
    "    if i  == num_cases*num_seasons - 1:\n",
    "        ax.set_xlabel(x_axis_label)\n",
    "    ax.set_ylabel(y_axis_label)\n",
    "    #ax.xaxis.set_ticks(np.arange(min(t)+0, 365, 1))\n",
    "     \n",
    "    # Annotate case\n",
    "    set_title(ax, cases[i % 2])\n",
    "    # Annotate case\n",
    "    # if i % 2 == 0:\n",
    "    #     title_str = r\"$\\bf{\" + seasons[i/2] + \"}$\" + ' (upper: ' + r\"$\\it{\" + cases[i % 2] + \"}$\" + ', lower: ' + r\"$\\it{\"  + cases[(i-1) % 2] + \"}$\" + ')'\n",
    "    #     ax.set_title(title_str, # mg assign appropriate season/case\n",
    "    #                  verticalalignment = 'top',\n",
    "    #                  horizontalalignment = 'center', \n",
    "    #                  fontsize = 6, color = 'k')\n",
    "        \n",
    "    # Print legend only at the lower plot (g36 case)\n",
    "    if i % 1 == 0:\n",
    "        ax.legend(loc='center right', ncol=1)\n",
    "    configure_axes(ax)\n",
    "        \n",
    "    #plt.tight_layout(h_pad=0)\n",
    "    plt.tight_layout()\n",
    "    #plt.subplots_adjust(hspace = .2)\n",
    "        \n",
    "def tem_conv_CtoF(T_in_degC):\n",
    "    '''Converts temperature provided in degC to degF\n",
    "    '''\n",
    "    T_in_degF = (T_in_degC)*9./5. + 32.\n",
    "    \n",
    "    return T_in_degF\n",
    "        \n",
    "def add_secondary_yaxis_for_degF(ax, time, temp_in_K):\n",
    "        # Add a secondary axis with temperatures represented in F\n",
    "        ax_F = ax.twinx()\n",
    "        # Get limits to match with the left axis\n",
    "        ax_F.set_ylim([tem_conv_CtoF(ax.get_ylim()[0]),tem_conv_CtoF(ax.get_ylim()[1])])\n",
    "        # plot a \"scaler\" variable and make it invisible\n",
    "        ax_F.plot(time, tem_conv_CtoF(temp_in_K-273.15), linewidth=0.0)\n",
    "        ax_F.set_ylabel('temperature [$^\\circ$F]')\n",
    "        configure_axes(ax_F)\n",
    "        #ax.grid(False)\n",
    "        #ax.xaxis.grid()\n",
    "        \n",
    "def hide_tick_labels(ax):\n",
    "    '''Removes labels and ticks. Kwargs: bottom controls the ticks, labelbottom the tick labels\n",
    "    '''\n",
    "    ax.tick_params(axis = 'x',labelbottom='off',bottom='off')"
   ]
  },
  {
   "cell_type": "markdown",
   "metadata": {},
   "source": [
    "## Plot results"
   ]
  },
  {
   "cell_type": "markdown",
   "metadata": {},
   "source": [
    "## Chiller plant - power"
   ]
  },
  {
   "cell_type": "code",
   "execution_count": 8,
   "metadata": {},
   "outputs": [
    {
     "output_type": "error",
     "ename": "KeyError",
     "evalue": "'test_base'",
     "traceback": [
      "\u001b[0;31m---------------------------------------------------------------------------\u001b[0m",
      "\u001b[0;31mKeyError\u001b[0m                                  Traceback (most recent call last)",
      "\u001b[0;32m<ipython-input-8-11e4f9a9f530>\u001b[0m in \u001b[0;36m<module>\u001b[0;34m\u001b[0m\n\u001b[1;32m     39\u001b[0m \u001b[0;34m\u001b[0m\u001b[0m\n\u001b[1;32m     40\u001b[0m \u001b[0;31m# Create the plot for all seasons and cases\u001b[0m\u001b[0;34m\u001b[0m\u001b[0;34m\u001b[0m\u001b[0;34m\u001b[0m\u001b[0m\n\u001b[0;32m---> 41\u001b[0;31m \u001b[0mfig\u001b[0m \u001b[0;34m=\u001b[0m \u001b[0mplot_power\u001b[0m\u001b[0;34m(\u001b[0m\u001b[0mres\u001b[0m\u001b[0;34m[\u001b[0m\u001b[0;34m\"test_base\"\u001b[0m\u001b[0;34m]\u001b[0m\u001b[0;34m)\u001b[0m\u001b[0;34m\u001b[0m\u001b[0;34m\u001b[0m\u001b[0m\n\u001b[0m\u001b[1;32m     42\u001b[0m \u001b[0msave_plot\u001b[0m\u001b[0;34m(\u001b[0m\u001b[0mfig\u001b[0m\u001b[0;34m,\u001b[0m \u001b[0;34m\"CHWpum_P\"\u001b[0m\u001b[0;34m)\u001b[0m\u001b[0;34m\u001b[0m\u001b[0;34m\u001b[0m\u001b[0m\n",
      "\u001b[0;31mKeyError\u001b[0m: 'test_base'"
     ]
    }
   ],
   "source": [
    "def plot_power(reader):\n",
    "    ''' Main method that plots the results\n",
    "    '''\n",
    "    font = {'family' : 'serif',\n",
    "            'weight' : 'normal',\n",
    "            'size'   : 6}\n",
    "    matplotlib.rc('font', **font)\n",
    "    \n",
    "    plt.clf()\n",
    "    \n",
    "    time_scale=3600.\n",
    "       \n",
    "    (t, pumCHW_P) = reader.values(\"pumCHW.P\")\n",
    "    (t, pumCW_P) = reader.values(\"pumCW.P\")\n",
    "    (t, chi_P) = reader.values(\"chi.P\")\n",
    "    t = t/time_scale\n",
    "   \n",
    "    # Plot figure\n",
    "    fig = plt.figure(figsize=(6.5, 2.5))\n",
    "    ax = fig.add_subplot(1, 1, 1)\n",
    "    ax.plot(t, pumCHW_P, label = '$P_{chw,p}$', linewidth=0.5)\n",
    "         \n",
    "    #make_ticklabels_invisible(plt.gcf())\n",
    "        \n",
    "    # customize days to display\n",
    "\n",
    "    ax.set_xlabel('time [h]')\n",
    "    ax.set_ylabel('Chiller water pump power [W]')\n",
    "    #ax.xaxis.set_ticks(np.arange(min(t)+0, 365, 1))\n",
    "\n",
    "    ax.set_xlim([min(t), min(t)+24])\n",
    "    ax.set_xticks(range(24))\n",
    " \n",
    "    ax.legend(loc='center right', ncol=1)\n",
    "\n",
    "    configure_axes(ax)\n",
    "        \n",
    "    return plt\n",
    "\n",
    "# Create the plot for all seasons and cases\n",
    "fig = plot_power(res[\"test_base\"])\n",
    "save_plot(fig, \"CHWpum_P\")"
   ]
  },
  {
   "cell_type": "markdown",
   "metadata": {},
   "source": [
    "### Outside conditions"
   ]
  },
  {
   "cell_type": "code",
   "execution_count": 86,
   "metadata": {},
   "outputs": [
    {
     "ename": "IndexError",
     "evalue": "list index out of range",
     "output_type": "error",
     "traceback": [
      "\u001b[0;31m---------------------------------------------------------------------------\u001b[0m",
      "\u001b[0;31mIndexError\u001b[0m                                Traceback (most recent call last)",
      "\u001b[0;32m<ipython-input-86-22110511b773>\u001b[0m in \u001b[0;36m<module>\u001b[0;34m\u001b[0m\n\u001b[1;32m     49\u001b[0m \u001b[0;34m\u001b[0m\u001b[0m\n\u001b[1;32m     50\u001b[0m \u001b[0;31m# Create the plot for all seasons and cases\u001b[0m\u001b[0;34m\u001b[0m\u001b[0;34m\u001b[0m\u001b[0;34m\u001b[0m\u001b[0m\n\u001b[0;32m---> 51\u001b[0;31m \u001b[0mfig\u001b[0m \u001b[0;34m=\u001b[0m \u001b[0mplot_outside\u001b[0m\u001b[0;34m(\u001b[0m\u001b[0mres\u001b[0m\u001b[0;34m)\u001b[0m\u001b[0;34m\u001b[0m\u001b[0;34m\u001b[0m\u001b[0m\n\u001b[0m\u001b[1;32m     52\u001b[0m \u001b[0msave_plot\u001b[0m\u001b[0;34m(\u001b[0m\u001b[0mfig\u001b[0m\u001b[0;34m,\u001b[0m \u001b[0;34m\"outside\"\u001b[0m\u001b[0;34m)\u001b[0m\u001b[0;34m\u001b[0m\u001b[0;34m\u001b[0m\u001b[0m\n",
      "\u001b[0;32m<ipython-input-86-22110511b773>\u001b[0m in \u001b[0;36mplot_outside\u001b[0;34m(read_in_res)\u001b[0m\n\u001b[1;32m     21\u001b[0m \u001b[0;34m\u001b[0m\u001b[0m\n\u001b[1;32m     22\u001b[0m         \u001b[0;32mfor\u001b[0m \u001b[0msubplot_id\u001b[0m \u001b[0;32min\u001b[0m \u001b[0;34m[\u001b[0m\u001b[0;36m0\u001b[0m\u001b[0;34m,\u001b[0m\u001b[0;36m2\u001b[0m\u001b[0;34m,\u001b[0m\u001b[0;36m4\u001b[0m\u001b[0;34m]\u001b[0m\u001b[0;34m:\u001b[0m\u001b[0;34m\u001b[0m\u001b[0;34m\u001b[0m\u001b[0m\n\u001b[0;32m---> 23\u001b[0;31m             ax[subplot_id].plot(t, TOut-273.15, 'r', \\\n\u001b[0m\u001b[1;32m     24\u001b[0m                    label='$T_{oa}$', linewidth=0.5)\n\u001b[1;32m     25\u001b[0m             \u001b[0max\u001b[0m\u001b[0;34m[\u001b[0m\u001b[0msubplot_id\u001b[0m\u001b[0;34m]\u001b[0m\u001b[0;34m.\u001b[0m\u001b[0mset_ylabel\u001b[0m\u001b[0;34m(\u001b[0m\u001b[0;34m'temperature [$^\\circ$C]'\u001b[0m\u001b[0;34m)\u001b[0m\u001b[0;34m\u001b[0m\u001b[0;34m\u001b[0m\u001b[0m\n",
      "\u001b[0;31mIndexError\u001b[0m: list index out of range"
     ]
    }
   ],
   "source": [
    "def plot_outside(read_in_res):\n",
    "    # ------------------------------------------------------\n",
    "    plt.clf()\n",
    "    plt.ylim([0., 20.])\n",
    "    time_scale=86400.\n",
    "    # ------------------------------------------------------\n",
    "    \n",
    "    ax = list()\n",
    "    # get a list of unique climate cases\n",
    "    unique_climate_cases = list(read_in_res.keys())[0] # all in the same climate\n",
    "    \n",
    "    subplot_id = 0\n",
    "    for climate in unique_climate_cases:\n",
    "        (t, TOut) = read_in_res[case_name].values(\"weaBus.TDryBul\")\n",
    "        (t, TOutWet) = read_in_res[case_name].values(\"weaBus.TWetBul\")\n",
    "        \n",
    "        t = t/time_scale\n",
    "        \n",
    "        # Generate figure and plot data\n",
    "        ax.insert(subplot_id, plt.subplot(len(unique_climate_cases)*2, 1, subplot_id+1))\n",
    "        \n",
    "        for subplot_id in [0,2,4]:\n",
    "            ax[subplot_id].plot(t, TOut-273.15, 'r', \\\n",
    "                   label='$T_{oa}$', linewidth=0.5)\n",
    "            ax[subplot_id].set_ylabel('temperature [$^\\circ$C]')\n",
    "            add_secondary_yaxis_for_degF(ax[subplot_id], t, TOut)\n",
    "            set_title(ax[subplot_id], '$T_{oa}$')\n",
    "        \n",
    "        subplot_id += 1\n",
    "        \n",
    "        for subplot_id in [1,3,5]:\n",
    "            ax[subplot_id].plot(t, TOutWet-273.15, 'r', \\\n",
    "                   label='$T_{oa,w}$', linewidth=0.5)\n",
    "            ax[subplot_id].set_ylabel('temperature [$^\\circ$C]')\n",
    "            add_secondary_yaxis_for_degF(ax[subplot_id], t, TOutWet)\n",
    "            set_title(ax[subplot_id], '$T_{oa,w}$')\n",
    "        \n",
    "        # customize days to display\n",
    "        ax[subplot_id].set_xlim([min(t)+5, min(t)+10])\n",
    "\n",
    "        configure_axes(ax[subplot_id])\n",
    "        ax[subplot_id].legend(loc='center right', ncol=1)\n",
    "        \n",
    "        subplot_id += 1\n",
    "\n",
    "#     ax[5].set_xlabel('time [days]')\n",
    "\n",
    "    return plt\n",
    "\n",
    "# Create the plot for all seasons and cases\n",
    "fig = plot_outside(res)\n",
    "save_plot(fig, \"outside\")"
   ]
  },
  {
   "cell_type": "markdown",
   "metadata": {},
   "source": [
    "### Energy use\n",
    "\n",
    "We obtain the energy use as power consumed by:\n",
    "\n",
    "- Zone supply fan: fan.P\n",
    "- Chilled water pump: pumCHW.P\n",
    "- Condenser water pump: pumCW.P\n",
    "- Chiller: chi.P\n",
    "- Cooling tower: cooTow.PFan\n",
    "\n"
   ]
  },
  {
   "cell_type": "code",
   "execution_count": null,
   "metadata": {
    "scrolled": true
   },
   "outputs": [],
   "source": [
    "from pdb import set_trace as bp\n",
    "\n",
    "def extract_energy_use(res, cases):\n",
    "    \n",
    "    # obtain, in kWh\n",
    "    tot_fan_en_use = dict()\n",
    "    tot_pumCHW_en_use = dict()\n",
    "    tot_pumCW_en_use = dict()\n",
    "    tot_chi_en_use = dict()\n",
    "    tot_cooTowFan_en_use = dict()\n",
    "\n",
    "    for case in cases:\n",
    "        bp()\n",
    "        (t, fan_en_use[case]) = res[case].values(\"fan.P\")\n",
    "        (t, tot_pumCHW_en_use[case]) = res[case].values(\"PChiWatPumAgg.y\")\n",
    "        (t, tot_pumCW_en_use[case]) = res[case].values(\"pumCW.P\")\n",
    "        (t, tot_chi_en_use[case]) = res[case].values(\"chi.P\")\n",
    "        (t, tot_cooTowFan_en_use[case]) = res[case].values(\"cooTow.PFan\")\n",
    "        \n",
    "    bp()\n",
    "\n",
    "    plt.clf()    \n",
    "\n",
    "    # Conversion to kWh/m2\n",
    "    conv = 1/3600./1000.\n",
    "    width = 0.5 # the width of the bars: can also be len(x) sequence\n",
    "\n",
    "    zonSupFan = [0., 0.]\n",
    "    pumCHW = [0., 0.]\n",
    "    pumCW = [0., 0.]\n",
    "    chiP = [0., 0.]\n",
    "    cooTowFan = [0., 0.]\n",
    "    \n",
    "    idx = [0, 1]\n",
    "    for i in idx:\n",
    "        res_dic = res[i]\n",
    "        zonSupFan[i] = res_dic['fan.P'][-1] * conv\n",
    "        pumCHW[i] = res_dic['pumCHW.P'][-1] * conv\n",
    "        pumCW[i] = res_dic['pumCW.P'][-1] * conv\n",
    "        chiP[i] = res_dic['chi.P'][-1] * conv\n",
    "        cooTowFan[i] = res_dic['cooTow.PFan'][-1] * conv\n",
    "        \n",
    "    p1 = plt.bar(idx, pumCHW + pumCW, width, color='r')\n",
    "    p2 = plt.bar(idx, zonSupFan, width, bottom=hea, color='g')\n",
    "    p3 = plt.bar(idx, chiP, width, bottom=cooLatBas, color='b')\n",
    "    p4 = plt.bar(idx, cooTowFan, width, bottom=fanBas, color='k')\n",
    "        \n",
    "    plt.ylabel('site electricity use [kWh/(m2  a)]')\n",
    "    plt.xticks([0, 1], ('test_base', 'test_1711'))\n",
    "    plt.tick_params(axis=u'x', which=u'both',length=0)\n",
    "\n",
    "    #plt.yticks(np.arange(0, 81, 10))\n",
    "    plt.legend((p1[0], p2[0], p3[0], p4[0]), \\\n",
    "               ('pumping', 'chiller', 'cooling tower'), \\\n",
    "              loc='upper right')\n",
    "    \n",
    "    save_plot(plt, \"energy\")\n",
    "    \n",
    "    # Write result to console and file\n",
    "    eSit = [0, 0]\n",
    "    for i in [0, 1]:\n",
    "        eSit[i] = hea[i]+cooSen[i]+cooLat[i]+fan[i]\n",
    "\n",
    "#     str = \"\"\"\\\n",
    "# .. table:: Heating, cooling, fan and total site HVAC energy, and savings of guideline 36 case versus base case.\n",
    "\n",
    "#    ===================================== ===================================== ====================================== ====================================== =====\n",
    "#    :math:`E_{{h}} \\quad [kWh/(m^2\\,a)]`    :math:`E_{{c}} \\quad [kWh/(m^2\\,a)]`    :math:`E_{{f}} \\quad [kWh/(m^2\\,a)]`     :math:`E_{{tot}} \\quad [kWh/(m^2\\,a)]`     [%]\n",
    "#    ===================================== ===================================== ====================================== ====================================== =====\n",
    "#    {:37.4} {:37.4}  {:37.4}  {:37.4}   \n",
    "#    {:37.4} {:37.4}  {:37.4}  {:37.4}  {:4.3} \n",
    "#    ===================================== ===================================== ====================================== ====================================== =====\n",
    "  \n",
    "#   \"\"\".format(\\\n",
    "#             hea[0], coo[0], fan[0], eSit[0], \\\n",
    "#             hea[1], coo[1], fan[1], eSit[1], (1-eSit[1]/eSit[0])*100.)\n",
    "#     def save_rst(str, file_name):\n",
    "#         ''' Save the string `str` to the rst file `file_name.rst`\n",
    "#         '''\n",
    "#         print(str)\n",
    "#         with open(os.path.join(\"img\", \"{}.rst\".format(file_name)), \"w\") as fil:\n",
    "#             fil.write(str)\n",
    "        \n",
    "#     save_rst(str, \"site_energy\")\n",
    "\n",
    "extract_energy_use(res, cases)"
   ]
  },
  {
   "source": [
    "cases.get_list_of_case_names()\n"
   ],
   "cell_type": "markdown",
   "metadata": {}
  },
  {
   "cell_type": "code",
   "execution_count": null,
   "metadata": {},
   "outputs": [],
   "source": [
    "res[case].values(\"fan.P\")"
   ]
  },
  {
   "cell_type": "markdown",
   "metadata": {},
   "source": [
    "## Plot energy use with diverse loads"
   ]
  },
  {
   "cell_type": "code",
   "execution_count": null,
   "metadata": {},
   "outputs": [],
   "source": [
    "def plot_all_energy(r_base_without, r_g36_without, r_base_with, r_g36_with):\n",
    "    from buildingspy.io.outputfile import Reader\n",
    "    import matplotlib.pyplot as plt\n",
    "    \n",
    "    plt.clf()    \n",
    "\n",
    "    # Conversion to kWh/m2\n",
    "    conv = 1/3600./1000.\n",
    "    results = [r_base_without, r_g36_without, r_base_with, r_g36_with]\n",
    "    width = 0.5       # the width of the bars: can also be len(x) sequence\n",
    "\n",
    "    hea    = [0., 0., 0., 0.]\n",
    "    cooSen = [0., 0., 0., 0.]\n",
    "    cooLat = [0., 0., 0., 0.]\n",
    "    fan    = [0., 0., 0., 0.]\n",
    "    cooLatBas = [0., 0., 0., 0.]\n",
    "    coo = [0, 0, 0., 0.]\n",
    "    fanBas = [0., 0., 0., 0.]\n",
    "    \n",
    "    idx = [0, 1, 2, 3]\n",
    "    for i in idx:\n",
    "        res_dic = results[i]\n",
    "        hea[i]    =  res_dic['res.EHea'][-1] * conv / COPh\n",
    "        cooSen[i] = -res_dic['res.ECooSen'][-1] * conv / COPc\n",
    "        cooLat[i] = -res_dic['res.ECooLat'][-1] * conv / COPc\n",
    "        coo[i] = cooSen[i] + cooLat[i]\n",
    "        fan[i]    =  res_dic['res.EFan'][-1] * conv\n",
    "        cooLatBas[i] = hea[i] + cooSen[i]\n",
    "        fanBas[i]    = cooLatBas[i] + cooLat[i]\n",
    "    \n",
    "    \n",
    "    plt.figure(figsize=(5,3))\n",
    "\n",
    "    p1 = plt.bar(idx, hea,    width, color='r')\n",
    "    p2 = plt.bar(idx, cooSen, width, bottom=hea, color='g')\n",
    "    p3 = plt.bar(idx, cooLat, width, bottom=cooLatBas, color='b')\n",
    "    p4 = plt.bar(idx, fan,    width, bottom=fanBas, color='k')\n",
    "    plt.ylabel('site electricity use [kWh/(m2  a)]')\n",
    "    plt.xticks([0, 1, 2, 3], ('base case', 'guideline 36', 'base case, $\\pm 50\\%$', 'guideline 36, $\\pm 50\\%$'))\n",
    "    #plt.yticks(np.arange(0, 81, 10))\n",
    "    plt.legend((p1[0], p2[0], p3[0], p4[0]), \\\n",
    "               ('heating', 'sensible cooling', 'latent cooling', 'fan'), \\\n",
    "              loc='upper right')\n",
    "    plt.grid(color='lightgrey', axis='y', linewidth=0.25)\n",
    "    for spine in plt.gca().spines.values():\n",
    "        spine.set_visible(False)\n",
    "    save_plot(plt, \"energy_all\")\n",
    "    \n",
    "plot_all_energy(r_base_annual_without_diverse_loads, r_g36_annual_without_diverse_loads, \\\n",
    "                r_base_annual_with_diverse_loads,    r_g36_annual_with_diverse_loads)"
   ]
  },
  {
   "cell_type": "code",
   "execution_count": null,
   "metadata": {},
   "outputs": [],
   "source": []
  },
  {
   "cell_type": "markdown",
   "metadata": {},
   "source": [
    "### Diagnostic output"
   ]
  },
  {
   "cell_type": "code",
   "execution_count": null,
   "metadata": {},
   "outputs": [],
   "source": [
    "print(\"CPUtime, base {} h\".format(r_base_annual_without_diverse_loads['CPUtime'][-1]/3600.))\n",
    "print(\"CPUtime, G36  {} h\".format(r_g36_annual_without_diverse_loads['CPUtime'][-1]/3600.))"
   ]
  },
  {
   "cell_type": "code",
   "execution_count": null,
   "metadata": {},
   "outputs": [],
   "source": [
    "plt.clf()\n",
    "\n",
    "roo_lis = [{\"var\": 'nor', \"name\": 'north'},\n",
    "           {\"var\": 'wes', \"name\": 'west'},\n",
    "           {\"var\": 'sou', \"name\": 'south'},\n",
    "           {\"var\": 'eas', \"name\": 'east'},\n",
    "           {\"var\": 'cor', \"name\": 'corridor'}]\n",
    "nRoo = len(roo_lis)\n",
    "iRoo = 1\n",
    "iPlt = 1\n",
    "for roo in roo_lis:\n",
    "    iSim = 1\n",
    "    for sim in [{\"res\": r_base_annual_without_diverse_loads, 'name': 'base case'}, \n",
    "                {\"res\": r_g36_annual_without_diverse_loads, 'name': 'guideline36'}]:\n",
    "        plt.subplot(nRoo, 2, iPlt)\n",
    "        plt=Plotter.boxplot(t=sim['res']['time'], \\\n",
    "                    y=sim['res']['flo.{}.air.vol.T'.format(roo['var'])]-273.15, \\\n",
    "                    increment=3600, nIncrement=24)\n",
    "        #plt.set_facecolor('mistyrose')    \n",
    "        #plt.patch.fill_between(t, TSetHea-273.15, y2=TSetCoo-273.15, color='white')\n",
    "        # Decorate, save and show the plot\n",
    "        if iRoo is nRoo:\n",
    "            plt.xlabel('Time [h]') \n",
    "        if iSim is 1:\n",
    "            plt.ylabel(u'$T_{room}$ [$^\\circ$C]')\n",
    "        plt.grid()\n",
    "        plt.xlim(6.5,19.5)\n",
    "        plt.ylim(18, 26)\n",
    "        plt.yticks([18, 20, 22, 24, 26])\n",
    "\n",
    "        plt.title('{} zone, {}'.format(roo['name'], sim['name']))\n",
    "        iSim+=1\n",
    "        iPlt+=1\n",
    "    iRoo+=1\n",
    "plt.tight_layout()\n",
    "save_plot(plt, \"roomTemperatures_boxplot\")\n",
    "plt.show()"
   ]
  },
  {
   "cell_type": "code",
   "execution_count": 7,
   "metadata": {},
   "outputs": [],
   "source": [
    "a = cases.get_cases()"
   ]
  },
  {
   "cell_type": "code",
   "execution_count": 6,
   "metadata": {},
   "outputs": [
    {
     "data": {
      "text/plain": [
       "<function cases.get_cases()>"
      ]
     },
     "execution_count": 6,
     "metadata": {},
     "output_type": "execute_result"
    }
   ],
   "source": [
    "a"
   ]
  },
  {
   "cell_type": "code",
   "execution_count": 2,
   "metadata": {},
   "outputs": [
    {
     "data": {
      "text/plain": [
       "['test_base', 'test_1711']"
      ]
     },
     "execution_count": 2,
     "metadata": {},
     "output_type": "execute_result"
    }
   ],
   "source": []
  },
  {
   "cell_type": "code",
   "execution_count": null,
   "metadata": {},
   "outputs": [],
   "source": []
  }
 ],
 "metadata": {
  "kernelspec": {
   "display_name": "py36",
   "language": "python",
   "name": "py36"
  },
  "language_info": {
   "codemirror_mode": {
    "name": "ipython",
    "version": 3
   },
   "file_extension": ".py",
   "mimetype": "text/x-python",
   "name": "python",
   "nbconvert_exporter": "python",
   "pygments_lexer": "ipython3",
   "version": "3.6.9-final"
  }
 },
 "nbformat": 4,
 "nbformat_minor": 4
}