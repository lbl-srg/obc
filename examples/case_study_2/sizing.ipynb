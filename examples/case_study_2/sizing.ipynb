{
 "cells": [
  {
   "cell_type": "markdown",
   "id": "presidential-amendment",
   "metadata": {},
   "source": [
    "# Sizing Assumptions"
   ]
  },
  {
   "cell_type": "markdown",
   "id": "nominated-banana",
   "metadata": {},
   "source": [
    "## Airloop"
   ]
  },
  {
   "cell_type": "code",
   "execution_count": 3,
   "id": "white-assault",
   "metadata": {},
   "outputs": [
    {
     "name": "stdout",
     "output_type": "stream",
     "text": [
      "28.205128205128208\n",
      "59763.28128296531\n"
     ]
    }
   ],
   "source": [
    "# assumptions\n",
    "m = 33\n",
    "dT = 15\n",
    "c = 1005\n",
    "ro = 1.17\n",
    "V = m/ro\n",
    "print(V)\n",
    "\n",
    "V_cfm = V/0.00047194745\n",
    "print(V_cfm)"
   ]
  },
  {
   "cell_type": "markdown",
   "id": "advance-swimming",
   "metadata": {},
   "source": [
    "### Sources used\n",
    "\n",
    "[has a downloadable excel tool](https://www.engineeringtoolbox.com/duct-friction-pressure-loss-d_444.html)\n",
    "\n",
    "[examples by stulz.de](https://www.stulz.de/de/newsroom/blog/aer-eine-neue-kennzahl-fuer-die-effizienz-von-luftbewegung-in-rechenzentren-352/), \n",
    "using specific fan power slightly above example 1 in the assumptions below\n"
   ]
  },
  {
   "cell_type": "markdown",
   "id": "simple-adobe",
   "metadata": {},
   "source": [
    "### Resulting reasonable assumptions\n",
    "coil 200 Pa\n",
    "\n",
    "short pipe ((veloc^2 x ro)/2) + plenum : 100 Pa\n",
    "\n",
    "note: plenum almost negligible\n"
   ]
  },
  {
   "cell_type": "markdown",
   "id": "charged-survey",
   "metadata": {},
   "source": [
    "## Chiller"
   ]
  },
  {
   "cell_type": "code",
   "execution_count": 15,
   "id": "horizontal-meter",
   "metadata": {},
   "outputs": [
    {
     "name": "stdout",
     "output_type": "stream",
     "text": [
      "134.57142857142858\n",
      "10.188165430080002\n"
     ]
    }
   ],
   "source": [
    "Cn = 471000 #W\n",
    "Cn_ton = Cn/3500\n",
    "print(Cn_ton)\n",
    "\n",
    "V_gpm = 1.2 * Cn_ton\n",
    "V = V_gpm * 0.0000630901964\n",
    "ro_w = 1000\n",
    "m = V * ro_w\n",
    "print(m)"
   ]
  },
  {
   "cell_type": "markdown",
   "id": "surgical-tradition",
   "metadata": {},
   "source": [
    "### Evaporator"
   ]
  },
  {
   "cell_type": "code",
   "execution_count": 22,
   "id": "standing-south",
   "metadata": {},
   "outputs": [
    {
     "name": "stdout",
     "output_type": "stream",
     "text": [
      "Our model nominal evaporator flow in gpm/ton is: 1.4134046113429595\n",
      "Source provides for a 130 ton chiller a nominal evaporator flow in gpm/ton of 1.5\n"
     ]
    }
   ],
   "source": [
    "our_mn = 12 #kg/s\n",
    "our_Vn_gpm = (12/1000)/0.0000630901964\n",
    "print(\"Our model nominal evaporator flow in gpm/ton is:\", our_Vn_gpm/Cn_ton)\n",
    "print(\"Source provides for a 130 ton chiller a nominal evaporator flow in gpm/ton of\", 1.5)"
   ]
  },
  {
   "cell_type": "markdown",
   "id": "southern-archive",
   "metadata": {},
   "source": [
    "[source](https://www.trane.com/content/dam/Trane/Commercial/global/products-systems/education-training/engineers-newsletters/waterside-design/ADM-APN051-EN.pdf)\n",
    "\n",
    "Due to the similarity of the CHW flow an tonnage, we can use the evaporator nominal pressure drop from the source of 15kPa."
   ]
  },
  {
   "cell_type": "code",
   "execution_count": null,
   "id": "listed-reggae",
   "metadata": {},
   "outputs": [],
   "source": []
  },
  {
   "cell_type": "markdown",
   "id": "attended-costa",
   "metadata": {},
   "source": [
    "### Condenser"
   ]
  },
  {
   "cell_type": "code",
   "execution_count": null,
   "id": "appropriate-america",
   "metadata": {},
   "outputs": [],
   "source": []
  }
 ],
 "metadata": {
  "kernelspec": {
   "display_name": "py36",
   "language": "python",
   "name": "py36"
  },
  "language_info": {
   "codemirror_mode": {
    "name": "ipython",
    "version": 3
   },
   "file_extension": ".py",
   "mimetype": "text/x-python",
   "name": "python",
   "nbconvert_exporter": "python",
   "pygments_lexer": "ipython3",
   "version": "3.6.9"
  }
 },
 "nbformat": 4,
 "nbformat_minor": 5
}
