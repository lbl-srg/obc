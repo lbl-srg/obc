{
 "cells": [
  {
   "cell_type": "markdown",
   "id": "educational-yesterday",
   "metadata": {},
   "source": [
    "# Sizing Assumptions"
   ]
  },
  {
   "cell_type": "markdown",
   "id": "fresh-rebecca",
   "metadata": {},
   "source": [
    "## Airloop"
   ]
  },
  {
   "cell_type": "code",
   "execution_count": 58,
   "id": "liquid-emperor",
   "metadata": {},
   "outputs": [
    {
     "name": "stdout",
     "output_type": "stream",
     "text": [
      "28.205128205128208\n",
      "59763.28128296531\n"
     ]
    }
   ],
   "source": [
    "# assumptions for nominal supply airflow\n",
    "m = 33\n",
    "dT = 15\n",
    "c = 1005\n",
    "ro = 1.17\n",
    "V = m/ro\n",
    "print(V)\n",
    "\n",
    "V_cfm = V/0.00047194745\n",
    "print(V_cfm)"
   ]
  },
  {
   "cell_type": "code",
   "execution_count": 59,
   "id": "related-carbon",
   "metadata": {},
   "outputs": [
    {
     "data": {
      "text/plain": [
       "0.13484212857142858"
      ]
     },
     "execution_count": 59,
     "metadata": {},
     "output_type": "execute_result"
    }
   ],
   "source": [
    "V*200/0.7/V_cfm"
   ]
  },
  {
   "cell_type": "markdown",
   "id": "respiratory-saturday",
   "metadata": {},
   "source": []
  },
  {
   "cell_type": "markdown",
   "id": "german-culture",
   "metadata": {},
   "source": [
    "\n"
   ]
  },
  {
   "cell_type": "markdown",
   "id": "excited-technique",
   "metadata": {},
   "source": [
    "## Chilled water flow"
   ]
  },
  {
   "cell_type": "code",
   "execution_count": 15,
   "id": "third-tennis",
   "metadata": {},
   "outputs": [
    {
     "name": "stdout",
     "output_type": "stream",
     "text": [
      "134.57142857142858\n",
      "10.188165430080002 ; In our model we assume is 12\n"
     ]
    }
   ],
   "source": [
    "Cn = 471000 #W\n",
    "Cn_ton = Cn/3500\n",
    "print(Cn_ton)\n",
    "\n",
    "V_gpm = 1.2 * Cn_ton\n",
    "V = V_gpm * 0.0000630901964\n",
    "ro_w = 1000\n",
    "m = V * ro_w\n",
    "print(m, \"; In our model we assume is\", 12)"
   ]
  },
  {
   "cell_type": "markdown",
   "id": "clear-buying",
   "metadata": {},
   "source": [
    "### Evaporator flow"
   ]
  },
  {
   "cell_type": "code",
   "execution_count": 61,
   "id": "large-occurrence",
   "metadata": {},
   "outputs": [
    {
     "name": "stdout",
     "output_type": "stream",
     "text": [
      "Our model nominal evaporator flow in gpm/ton is: 1.4134046113429595\n",
      "Source provides for a 130 ton chiller a nominal evaporator flow in gpm/ton of 1.5\n"
     ]
    }
   ],
   "source": [
    "our_mn = 12 #kg/s\n",
    "our_Vn_gpm = (12/1000)/0.0000630901964\n",
    "print(\"Our model nominal evaporator flow in gpm/ton is:\", our_Vn_gpm/Cn_ton)\n",
    "print(\"Source provides for a 130 ton chiller a nominal evaporator flow in gpm/ton of\", 1.5)"
   ]
  },
  {
   "cell_type": "markdown",
   "id": "incredible-technician",
   "metadata": {},
   "source": [
    "#### Sources used\n",
    "\n",
    "[source](https://www.trane.com/content/dam/Trane/Commercial/global/products-systems/education-training/engineers-newsletters/waterside-design/ADM-APN051-EN.pdf)\n",
    "\n",
    "#### Resulting reasonable assumptions\n",
    "\n",
    "Due to the similarity of the CHW flow an tonnage, we can use the evaporator nominal pressure drop from the source of 15kPa."
   ]
  },
  {
   "cell_type": "markdown",
   "id": "floppy-buffalo",
   "metadata": {},
   "source": [
    "### Condenser water flow check"
   ]
  },
  {
   "cell_type": "code",
   "execution_count": 62,
   "id": "helpful-guess",
   "metadata": {},
   "outputs": [
    {
     "data": {
      "text/plain": [
       "18.200000000000003"
      ]
     },
     "execution_count": 62,
     "metadata": {},
     "output_type": "execute_result"
    }
   ],
   "source": [
    "# 3 gpm is 0.14 kg/s, see Paul's method based on ASHRAE Standard 550 / 590\n",
    "0.14*130"
   ]
  },
  {
   "cell_type": "code",
   "execution_count": null,
   "id": "handmade-wallace",
   "metadata": {},
   "outputs": [],
   "source": []
  },
  {
   "cell_type": "markdown",
   "id": "moral-north",
   "metadata": {},
   "source": [
    "## Condenser, Evaporator, Coil, and WSE Pressure Drops\n",
    "[based on examples towards the end of this taylor engineering article](https://www.taylor-engineering.com/wp-content/uploads/2020/04/ASHRAE_Journal_-_How_to_Design_Control_Waterside_Economizers.pdf), it can be assumed that the condenser water side pressure drop equals the pressure drop on the evaporator side. Same goes for WSE HX.\n",
    "\n",
    "Assuming the cooling tower and the coil have the same pressure drop *mg??\n",
    "\n",
    "### Chiller (based on a 150 ton Carrier Screw Chiller)\n",
    "[source](https://chillerscarrier.com/assets/30xw-9pd.pdf)"
   ]
  },
  {
   "cell_type": "code",
   "execution_count": 9,
   "id": "rapid-literature",
   "metadata": {},
   "outputs": [],
   "source": [
    "evap_dp = 33.2 #kPa\n",
    "cond_dp = 42.1 #kPa"
   ]
  },
  {
   "cell_type": "markdown",
   "id": "spread-discovery",
   "metadata": {},
   "source": [
    "### Cooling tower\n",
    "\n",
    "[source](https://www.baltimoreaircoil.com/download_api_endpoint/1178/j120_tr_pumpingpiping_20150914.pdf)"
   ]
  },
  {
   "cell_type": "code",
   "execution_count": 10,
   "id": "random-breakdown",
   "metadata": {},
   "outputs": [
    {
     "name": "stdout",
     "output_type": "stream",
     "text": [
      "Tower dp is:  19.62 kPa\n"
     ]
    }
   ],
   "source": [
    "ro_w = 1000 # kJ/(kg*K)\n",
    "gr = 9.81 #kg/(s2)\n",
    "height = 2 #m\n",
    "\n",
    "coo_tow_dp = ro_w * gr * height\n",
    "print(\"Tower dp is: \",coo_tow_dp/1000, \"kPa\")"
   ]
  },
  {
   "cell_type": "markdown",
   "id": "naughty-edmonton",
   "metadata": {},
   "source": [
    "### Evaporator coil\n",
    "\n",
    "#### Airside\n",
    "\n",
    "**Sources used**\n",
    "\n",
    "[has a downloadable excel tool](https://www.engineeringtoolbox.com/duct-friction-pressure-loss-d_444.html)\n",
    "\n",
    "[examples by stulz.de](https://www.stulz.de/de/newsroom/blog/aer-eine-neue-kennzahl-fuer-die-effizienz-von-luftbewegung-in-rechenzentren-352/), \n",
    "using specific fan power slightly above example 1 in the assumptions below, scaled for our nominal flow as above.\n",
    "\n",
    "Ducts: short duct ((veloc^2 x ro)/2) + plenum : 100 Pa\n",
    "\n",
    "**Resulting reasonable assumptions**\n",
    "\n",
    "coil 200 Pa , also corresponds well with this [source](https://www.trane.com/content/dam/Trane/Commercial/global/products-systems/education-training/engineers-newsletters/standards-codes/ADM-APN070-EN_06032019.pdf)\n",
    "\n",
    "note: plenum almost negligible\n",
    "\n",
    "#### Waterside"
   ]
  },
  {
   "cell_type": "code",
   "execution_count": null,
   "id": "european-reasoning",
   "metadata": {},
   "outputs": [],
   "source": [
    "fl = 12"
   ]
  },
  {
   "cell_type": "code",
   "execution_count": null,
   "id": "short-combining",
   "metadata": {},
   "outputs": [],
   "source": []
  },
  {
   "cell_type": "markdown",
   "id": "instructional-plaintiff",
   "metadata": {},
   "source": [
    "## Cooling Tower\n",
    "\n",
    "Approach temperature [Source (PG&E, leaving tower water temperature minus ambient wet bulb\n",
    "temperature](https://www.pge.com/includes/docs/pdfs/mybusiness/energysavingsrebates/incentivesbyindustry/DataCenters_BestPractices.pdf) recommends 5 - 7 F, \n",
    "conservatively assuming"
   ]
  },
  {
   "cell_type": "code",
   "execution_count": 47,
   "id": "naval-salon",
   "metadata": {},
   "outputs": [],
   "source": [
    "approachT = 4 #K"
   ]
  },
  {
   "cell_type": "markdown",
   "id": "pharmaceutical-cisco",
   "metadata": {},
   "source": [
    "### Sizing the tower fan"
   ]
  },
  {
   "cell_type": "code",
   "execution_count": 63,
   "id": "comparative-intensity",
   "metadata": {},
   "outputs": [
    {
     "name": "stdout",
     "output_type": "stream",
     "text": [
      "T_cond_in_max_C: 24\n",
      "T_wet_bulb_max_C: 23\n"
     ]
    }
   ],
   "source": [
    "# cold water temperature (entering the condenser)\n",
    "T_cond_in_max = 297 #K\n",
    "T_wet_bulb_max = 296 #K\n",
    "\n",
    "T_cond_in_max_C = 297 - 273 #K\n",
    "T_wet_bulb_max_C = 296 - 273 #K\n",
    "\n",
    "print(\"T_cond_in_max_C:\", T_cond_in_max_C)\n",
    "print(\"T_wet_bulb_max_C:\", T_wet_bulb_max_C)"
   ]
  },
  {
   "cell_type": "markdown",
   "id": "light-conducting",
   "metadata": {},
   "source": [
    "## Pauls method based on ASHRAE Standard 550 / 590"
   ]
  },
  {
   "cell_type": "code",
   "execution_count": 64,
   "id": "theoretical-sussex",
   "metadata": {},
   "outputs": [],
   "source": [
    "# ASHRAE Standard 550 / 590, [source](https://www.trane.com/content/dam/Trane/Commercial/global/products-systems/education-training/engineers-newsletters/waterside-design/adm-apn045-en_0912.pdf) \n",
    "# Tower is sized at 3.0 GPM per ton of plant capacity.  Note that some designs reduce this to 2.0 or 2.5 GPM per ton. \n",
    "# Chiller efficiency is .57 KW / Ton.  Some machines are even more efficient - but it is hard to get much better \n",
    "# than .5 KW / ton at design conditions.\n",
    "# Tower fan efficiency .046 KW / Ton\n",
    "# Condenser water pump .054 KW / Ton\n",
    "# Tower + Pump = .1 KW / Ton\n",
    "\n",
    "# In terms of overall plant energy use it is valuable to think of the overall plant running around .6 - .8 KW / Ton.  \n",
    "# Of that amount 85% is attributable to the chiller and roughly 15% to the tower fan and pump.  \n",
    "# So in terms of the overall lift done by the plant \n",
    "# (difference between the CHW temperature and the outdoor air wet bulb) - the tower is roughly \n",
    "# five times more efficient than the chiller.  This is due mostly to the fact that the tower is evaporating water - rather \n",
    "# than trying to mechanically cool it.  So the more work we can have the tower due and the less the chiller needs to do the better.  \n",
    "# This is why strategies like the use of WSE and CDW are so effective in reducing total plant efficiency."
   ]
  },
  {
   "cell_type": "code",
   "execution_count": 66,
   "id": "declared-wildlife",
   "metadata": {},
   "outputs": [
    {
     "name": "stdout",
     "output_type": "stream",
     "text": [
      "Tower nominal fan power is thus:  6.532 kW\n"
     ]
    }
   ],
   "source": [
    "# Tower fan efficiency .046 KW / Ton\n",
    "print(\"Tower nominal fan power is thus: \", .046 * 142, \"kW\")"
   ]
  },
  {
   "cell_type": "markdown",
   "id": "handled-bhutan",
   "metadata": {},
   "source": [
    "## Piping\n",
    "\n",
    "[source](https://www.advantageengineering.com/fyi/166/advantageFYI166.php)\n",
    "\n",
    "6\" CW at 2200 Pa/100ft\n",
    "\n",
    "5\" CHW Pa/100ft"
   ]
  },
  {
   "cell_type": "markdown",
   "id": "strange-minister",
   "metadata": {},
   "source": [
    "For those with access, the compiled spreadsheet is [here](https://docs.google.com/spreadsheets/d/1XtaqeURHSJD2tsk9S-GBtri8GY4wZl62JM6LV3KOiVo/edit?usp=sharing)\n",
    "For the others, please see the ChillerPlant package models. The piping resistances are for the most part passed as pressure drops in valves "
   ]
  },
  {
   "cell_type": "code",
   "execution_count": 12,
   "id": "approved-negative",
   "metadata": {},
   "outputs": [
    {
     "ename": "SyntaxError",
     "evalue": "invalid syntax (<ipython-input-12-9ee84cd2cce9>, line 3)",
     "output_type": "error",
     "traceback": [
      "\u001b[0;36m  File \u001b[0;32m\"<ipython-input-12-9ee84cd2cce9>\"\u001b[0;36m, line \u001b[0;32m3\u001b[0m\n\u001b[0;31m    [has a downloadable excel tool](https://www.engineeringtoolbox.com/duct-friction-pressure-loss-d_444.html)\u001b[0m\n\u001b[0m         ^\u001b[0m\n\u001b[0;31mSyntaxError\u001b[0m\u001b[0;31m:\u001b[0m invalid syntax\n"
     ]
    }
   ],
   "source": []
  },
  {
   "cell_type": "code",
   "execution_count": 1,
   "id": "stock-invite",
   "metadata": {},
   "outputs": [
    {
     "data": {
      "text/plain": [
       "24525.0"
      ]
     },
     "execution_count": 1,
     "metadata": {},
     "output_type": "execute_result"
    }
   ],
   "source": [
    "1000*9.81*2.5"
   ]
  },
  {
   "cell_type": "code",
   "execution_count": null,
   "id": "fabulous-madness",
   "metadata": {},
   "outputs": [],
   "source": []
  }
 ],
 "metadata": {
  "kernelspec": {
   "display_name": "py36",
   "language": "python",
   "name": "py36"
  },
  "language_info": {
   "codemirror_mode": {
    "name": "ipython",
    "version": 3
   },
   "file_extension": ".py",
   "mimetype": "text/x-python",
   "name": "python",
   "nbconvert_exporter": "python",
   "pygments_lexer": "ipython3",
   "version": "3.6.9"
  }
 },
 "nbformat": 4,
 "nbformat_minor": 5
}
