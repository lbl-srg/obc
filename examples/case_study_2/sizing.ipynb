{
 "cells": [
  {
   "cell_type": "markdown",
   "id": "first-competition",
   "metadata": {},
   "source": [
    "# Sizing Assumptions"
   ]
  },
  {
   "cell_type": "markdown",
   "id": "happy-affair",
   "metadata": {},
   "source": [
    "## Airloop"
   ]
  },
  {
   "cell_type": "code",
   "execution_count": 58,
   "id": "victorian-maria",
   "metadata": {},
   "outputs": [
    {
     "name": "stdout",
     "output_type": "stream",
     "text": [
      "28.205128205128208\n",
      "59763.28128296531\n"
     ]
    }
   ],
   "source": [
    "# assumptions for nominal supply airflow\n",
    "m = 33\n",
    "dT = 15\n",
    "c = 1005\n",
    "ro = 1.17\n",
    "V = m/ro\n",
    "print(V)\n",
    "\n",
    "V_cfm = V/0.00047194745\n",
    "print(V_cfm)"
   ]
  },
  {
   "cell_type": "code",
   "execution_count": 59,
   "id": "characteristic-tunisia",
   "metadata": {},
   "outputs": [
    {
     "data": {
      "text/plain": [
       "0.13484212857142858"
      ]
     },
     "execution_count": 59,
     "metadata": {},
     "output_type": "execute_result"
    }
   ],
   "source": [
    "V*200/0.7/V_cfm"
   ]
  },
  {
   "cell_type": "markdown",
   "id": "looking-surname",
   "metadata": {},
   "source": [
    "## Chilled water flow"
   ]
  },
  {
   "cell_type": "code",
   "execution_count": 44,
   "id": "palestinian-syntax",
   "metadata": {},
   "outputs": [
    {
     "name": "stdout",
     "output_type": "stream",
     "text": [
      "134.57142857142858\n",
      "10.188165430080002 ; In our model we assume 12 kg/s\n"
     ]
    }
   ],
   "source": [
    "Cn = 471000 #W\n",
    "Cn_ton = Cn/3500\n",
    "print(Cn_ton)\n",
    "\n",
    "V_gpm = 1.2 * Cn_ton\n",
    "V = V_gpm * 0.0000630901964\n",
    "ro_w = 1000\n",
    "m_chw_flow_nominal = V * ro_w\n",
    "print(m_chw_flow_nominal, \"; In our model we assume\", 12, \"kg/s\")"
   ]
  },
  {
   "cell_type": "markdown",
   "id": "liable-democracy",
   "metadata": {},
   "source": [
    "### Comparison with literature\n",
    "\n",
    "[source](https://www.trane.com/content/dam/Trane/Commercial/global/products-systems/education-training/engineers-newsletters/waterside-design/ADM-APN051-EN.pdf)"
   ]
  },
  {
   "cell_type": "code",
   "execution_count": 45,
   "id": "australian-baghdad",
   "metadata": {},
   "outputs": [
    {
     "name": "stdout",
     "output_type": "stream",
     "text": [
      "Our model nominal evaporator flow in gpm/ton is: 1.4134046113429595\n",
      "Source provides for a 130 ton chiller a nominal evaporator flow in gpm/ton of 1.5\n"
     ]
    }
   ],
   "source": [
    "m_chw_flow_nominal = 12 #kg/s\n",
    "m_chw_flow_nominal_gpm = (12/1000)/0.0000630901964\n",
    "print(\"Our model nominal evaporator flow in gpm/ton is:\", m_chw_flow_nominal_gpm/Cn_ton)\n",
    "print(\"Source provides for a 130 ton chiller a nominal evaporator flow in gpm/ton of\", 1.5)"
   ]
  },
  {
   "cell_type": "markdown",
   "id": "flexible-collar",
   "metadata": {},
   "source": [
    "### Condenser water flow check"
   ]
  },
  {
   "cell_type": "code",
   "execution_count": 50,
   "id": "prostate-model",
   "metadata": {},
   "outputs": [
    {
     "data": {
      "text/plain": [
       "(18.200000000000003, 'Our nominal value is about', 20, 'kg/s')"
      ]
     },
     "execution_count": 50,
     "metadata": {},
     "output_type": "execute_result"
    }
   ],
   "source": [
    "# 3 gpm is 0.14 kg/s, see Paul's method based on ASHRAE Standard 550 / 590\n",
    "0.14*130, \"Our nominal value is about\", 20, \"kg/s\""
   ]
  },
  {
   "cell_type": "markdown",
   "id": "pursuant-thanksgiving",
   "metadata": {},
   "source": [
    "## Condenser, Evaporator, Coil, and WSE Pressure Drops\n",
    "[based on examples towards the end of this taylor engineering article](https://www.taylor-engineering.com/wp-content/uploads/2020/04/ASHRAE_Journal_-_How_to_Design_Control_Waterside_Economizers.pdf), it can be assumed that the condenser water side pressure drop equals the pressure drop on the evaporator side. Same goes for WSE HX.\n",
    "\n",
    "### Chiller (based on a 150 ton Carrier Screw Chiller)\n",
    "[source](https://chillerscarrier.com/assets/30xw-9pd.pdf)"
   ]
  },
  {
   "cell_type": "code",
   "execution_count": 53,
   "id": "expensive-vienna",
   "metadata": {},
   "outputs": [
    {
     "name": "stdout",
     "output_type": "stream",
     "text": [
      "Adjusted evaporator pressure drop: 18.957830688210848  kPa\n",
      "Adjusted condenser pressure drop: 33.089860089154044  kPa\n"
     ]
    }
   ],
   "source": [
    "evap_dp = 33.2 #kPa\n",
    "evap_flow = 17.91 #kg/s\n",
    "m_chw_flow_nominal = 12 #kg/s\n",
    "\n",
    "cond_dp = 42.1 #kPa\n",
    "cond_flow = 22.39 #kg/s\n",
    "m_cw_flow_nominal = 39.7/2 #kg/s\n",
    "\n",
    "# adjusted to our nominal flow\n",
    "\n",
    "evap_dp_adjusted = evap_dp * (m_chw_flow_nominal/evap_flow)**2\n",
    "print(\"Adjusted evaporator pressure drop:\", evap_dp_adjusted, \" kPa\")\n",
    "cond_dp_adjusted = cond_dp * (m_cw_flow_nominal/cond_flow)**2\n",
    "print(\"Adjusted condenser pressure drop:\", cond_dp_adjusted, \" kPa\")"
   ]
  },
  {
   "cell_type": "markdown",
   "id": "strange-argentina",
   "metadata": {},
   "source": [
    "### Cooling tower\n",
    "\n",
    "[source](https://www.baltimoreaircoil.com/download_api_endpoint/1178/j120_tr_pumpingpiping_20150914.pdf)"
   ]
  },
  {
   "cell_type": "code",
   "execution_count": 52,
   "id": "floppy-sending",
   "metadata": {},
   "outputs": [
    {
     "name": "stdout",
     "output_type": "stream",
     "text": [
      "Tower dp is:  14.715 kPa\n"
     ]
    }
   ],
   "source": [
    "ro_w = 1000 # kJ/(kg*K)\n",
    "gr = 9.81 #kg/(s2)\n",
    "height = 1.5 #m, 5ft - confirmed per communication with Paul\n",
    "\n",
    "coo_tow_dp = ro_w * gr * height\n",
    "print(\"Tower dp is: \",coo_tow_dp/1000, \"kPa\")"
   ]
  },
  {
   "cell_type": "markdown",
   "id": "dynamic-slave",
   "metadata": {},
   "source": [
    "### Cooling coil\n",
    "\n",
    "#### Airside\n",
    "\n",
    "**Sources used**\n",
    "\n",
    "[has a downloadable excel tool](https://www.engineeringtoolbox.com/duct-friction-pressure-loss-d_444.html)\n",
    "\n",
    "[examples by stulz.de](https://www.stulz.de/de/newsroom/blog/aer-eine-neue-kennzahl-fuer-die-effizienz-von-luftbewegung-in-rechenzentren-352/), \n",
    "using specific fan power slightly above example 1 in the assumptions below, scaled for our nominal flow as above.\n",
    "\n",
    "Ducts: short duct ((veloc^2 x ro)/2) + plenum : 100 Pa\n",
    "\n",
    "**Resulting reasonable assumptions**\n",
    "\n",
    "coil 200 Pa , also corresponds well with this [source](https://www.trane.com/content/dam/Trane/Commercial/global/products-systems/education-training/engineers-newsletters/standards-codes/ADM-APN070-EN_06032019.pdf)\n",
    "\n",
    "note: plenum almost negligible\n",
    "\n",
    "#### Waterside\n",
    "\n",
    "Scaled from [source, table 1](https://www.trane.com/content/dam/Trane/Commercial/global/products-systems/education-training/engineers-newsletters/standards-codes/ADM-APN070-EN_06032019.pdf"
   ]
  },
  {
   "cell_type": "code",
   "execution_count": 55,
   "id": "concerned-presence",
   "metadata": {},
   "outputs": [
    {
     "data": {
      "text/plain": [
       "2986.0739999999996"
      ]
     },
     "execution_count": 55,
     "metadata": {},
     "output_type": "execute_result"
    }
   ],
   "source": [
    "m_chw = 12\n",
    "\n",
    "# assuming the pressure drop scales with the square of the velocity and the pipe diameter stays the same:\n",
    "dp = 33178.6 * (12/40)**2\n",
    "dp"
   ]
  },
  {
   "cell_type": "markdown",
   "id": "affected-transmission",
   "metadata": {},
   "source": [
    "## Cooling Tower\n",
    "\n",
    "Approach temperature [Source (PG&E, leaving tower water temperature minus ambient wet bulb\n",
    "temperature](https://www.pge.com/includes/docs/pdfs/mybusiness/energysavingsrebates/incentivesbyindustry/DataCenters_BestPractices.pdf) recommends 5 - 7 F, \n",
    "conservatively assuming"
   ]
  },
  {
   "cell_type": "code",
   "execution_count": 47,
   "id": "academic-citizen",
   "metadata": {},
   "outputs": [],
   "source": [
    "approachT = 4 #K"
   ]
  },
  {
   "cell_type": "markdown",
   "id": "dated-hands",
   "metadata": {},
   "source": [
    "### Sizing the tower fan"
   ]
  },
  {
   "cell_type": "code",
   "execution_count": 63,
   "id": "according-presence",
   "metadata": {},
   "outputs": [
    {
     "name": "stdout",
     "output_type": "stream",
     "text": [
      "T_cond_in_max_C: 24\n",
      "T_wet_bulb_max_C: 23\n"
     ]
    }
   ],
   "source": [
    "# cold water temperature (entering the condenser)\n",
    "T_cond_in_max = 297 #K\n",
    "T_wet_bulb_max = 296 #K\n",
    "\n",
    "T_cond_in_max_C = 297 - 273 #K\n",
    "T_wet_bulb_max_C = 296 - 273 #K\n",
    "\n",
    "print(\"T_cond_in_max_C:\", T_cond_in_max_C)\n",
    "print(\"T_wet_bulb_max_C:\", T_wet_bulb_max_C)"
   ]
  },
  {
   "cell_type": "markdown",
   "id": "cubic-aging",
   "metadata": {},
   "source": [
    "## Pauls method based on ASHRAE Standard 550 / 590"
   ]
  },
  {
   "cell_type": "code",
   "execution_count": 64,
   "id": "greenhouse-trademark",
   "metadata": {},
   "outputs": [],
   "source": [
    "# ASHRAE Standard 550 / 590, [source](https://www.trane.com/content/dam/Trane/Commercial/global/products-systems/education-training/engineers-newsletters/waterside-design/adm-apn045-en_0912.pdf) \n",
    "# Tower is sized at 3.0 GPM per ton of plant capacity.  Note that some designs reduce this to 2.0 or 2.5 GPM per ton. \n",
    "# Chiller efficiency is .57 KW / Ton.  Some machines are even more efficient - but it is hard to get much better \n",
    "# than .5 KW / ton at design conditions.\n",
    "# Tower fan efficiency .046 KW / Ton\n",
    "# Condenser water pump .054 KW / Ton\n",
    "# Tower + Pump = .1 KW / Ton\n",
    "\n",
    "# In terms of overall plant energy use it is valuable to think of the overall plant running around .6 - .8 KW / Ton.  \n",
    "# Of that amount 85% is attributable to the chiller and roughly 15% to the tower fan and pump.  \n",
    "# So in terms of the overall lift done by the plant \n",
    "# (difference between the CHW temperature and the outdoor air wet bulb) - the tower is roughly \n",
    "# five times more efficient than the chiller.  This is due mostly to the fact that the tower is evaporating water - rather \n",
    "# than trying to mechanically cool it.  So the more work we can have the tower due and the less the chiller needs to do the better.  \n",
    "# This is why strategies like the use of WSE and CDW are so effective in reducing total plant efficiency."
   ]
  },
  {
   "cell_type": "code",
   "execution_count": 66,
   "id": "entertaining-cattle",
   "metadata": {},
   "outputs": [
    {
     "name": "stdout",
     "output_type": "stream",
     "text": [
      "Tower nominal fan power is thus:  6.532 kW\n"
     ]
    }
   ],
   "source": [
    "# Tower fan efficiency .046 KW / Ton\n",
    "print(\"Tower nominal fan power is thus: \", .046 * 142, \"kW\")"
   ]
  },
  {
   "cell_type": "markdown",
   "id": "tamil-pound",
   "metadata": {},
   "source": [
    "## Piping\n",
    "\n",
    "[source](https://www.advantageengineering.com/fyi/166/advantageFYI166.php)\n",
    "\n",
    "6\" CW at 2200 Pa/100ft\n",
    "\n",
    "5\" CHW Pa/100ft"
   ]
  },
  {
   "cell_type": "markdown",
   "id": "nonprofit-helmet",
   "metadata": {},
   "source": [
    "For those with access, the compiled spreadsheet is [here](https://docs.google.com/spreadsheets/d/1XtaqeURHSJD2tsk9S-GBtri8GY4wZl62JM6LV3KOiVo/edit?usp=sharing)\n",
    "For the others, please see the ChillerPlant package models. The piping resistances are for the most part passed as pressure drops in valves "
   ]
  }
 ],
 "metadata": {
  "kernelspec": {
   "display_name": "py36",
   "language": "python",
   "name": "py36"
  },
  "language_info": {
   "codemirror_mode": {
    "name": "ipython",
    "version": 3
   },
   "file_extension": ".py",
   "mimetype": "text/x-python",
   "name": "python",
   "nbconvert_exporter": "python",
   "pygments_lexer": "ipython3",
   "version": "3.6.9"
  }
 },
 "nbformat": 4,
 "nbformat_minor": 5
}
