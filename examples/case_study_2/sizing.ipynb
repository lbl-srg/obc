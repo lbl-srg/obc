{
 "cells": [
  {
   "cell_type": "markdown",
   "id": "authorized-arabic",
   "metadata": {},
   "source": [
    "# Sizing Assumptions"
   ]
  },
  {
   "cell_type": "markdown",
   "id": "personal-voluntary",
   "metadata": {},
   "source": [
    "## Airloop"
   ]
  },
  {
   "cell_type": "code",
   "execution_count": 5,
   "id": "flexible-jewel",
   "metadata": {},
   "outputs": [
    {
     "name": "stdout",
     "output_type": "stream",
     "text": [
      "28.205128205128208\n",
      "59763.28128296531\n"
     ]
    }
   ],
   "source": [
    "# assumptions for nominal flow\n",
    "m = 33\n",
    "dT = 15\n",
    "c = 1005\n",
    "ro = 1.17\n",
    "V = m/ro\n",
    "print(V)\n",
    "\n",
    "V_cfm = V/0.00047194745\n",
    "print(V_cfm)"
   ]
  },
  {
   "cell_type": "code",
   "execution_count": 7,
   "id": "baking-polls",
   "metadata": {},
   "outputs": [
    {
     "data": {
      "text/plain": [
       "0.13484212857142858"
      ]
     },
     "execution_count": 7,
     "metadata": {},
     "output_type": "execute_result"
    }
   ],
   "source": [
    "V*200/0.7/V_cfm"
   ]
  },
  {
   "cell_type": "markdown",
   "id": "innovative-nicaragua",
   "metadata": {},
   "source": [
    "### Sources used\n",
    "\n",
    "[has a downloadable excel tool](https://www.engineeringtoolbox.com/duct-friction-pressure-loss-d_444.html)\n",
    "\n",
    "[examples by stulz.de](https://www.stulz.de/de/newsroom/blog/aer-eine-neue-kennzahl-fuer-die-effizienz-von-luftbewegung-in-rechenzentren-352/), \n",
    "using specific fan power slightly above example 1 in the assumptions below, scaled for our nominal flow as above.\n"
   ]
  },
  {
   "cell_type": "markdown",
   "id": "comprehensive-share",
   "metadata": {},
   "source": [
    "### Resulting reasonable assumptions\n",
    "coil 200 Pa\n",
    "\n",
    "short pipe ((veloc^2 x ro)/2) + plenum : 100 Pa\n",
    "\n",
    "note: plenum almost negligible\n"
   ]
  },
  {
   "cell_type": "markdown",
   "id": "introductory-mathematics",
   "metadata": {},
   "source": [
    "## Chiller"
   ]
  },
  {
   "cell_type": "code",
   "execution_count": 15,
   "id": "possible-diversity",
   "metadata": {},
   "outputs": [
    {
     "name": "stdout",
     "output_type": "stream",
     "text": [
      "134.57142857142858\n",
      "10.188165430080002\n"
     ]
    }
   ],
   "source": [
    "Cn = 471000 #W\n",
    "Cn_ton = Cn/3500\n",
    "print(Cn_ton)\n",
    "\n",
    "V_gpm = 1.2 * Cn_ton\n",
    "V = V_gpm * 0.0000630901964\n",
    "ro_w = 1000\n",
    "m = V * ro_w\n",
    "print(m)"
   ]
  },
  {
   "cell_type": "markdown",
   "id": "applicable-catch",
   "metadata": {},
   "source": [
    "### Evaporator"
   ]
  },
  {
   "cell_type": "code",
   "execution_count": 24,
   "id": "shaped-seattle",
   "metadata": {},
   "outputs": [
    {
     "name": "stdout",
     "output_type": "stream",
     "text": [
      "Our model nominal evaporator flow in gpm/ton is: 1.4134046113429595\n",
      "Source provides for a 130 ton chiller a nominal evaporator flow in gpm/ton of 1.5\n"
     ]
    }
   ],
   "source": [
    "our_mn = 12 #kg/s\n",
    "our_Vn_gpm = (12/1000)/0.0000630901964\n",
    "print(\"Our model nominal evaporator flow in gpm/ton is:\", our_Vn_gpm/Cn_ton)\n",
    "print(\"Source provides for a 130 ton chiller a nominal evaporator flow in gpm/ton of\", 1.5)"
   ]
  },
  {
   "cell_type": "markdown",
   "id": "supposed-judges",
   "metadata": {},
   "source": [
    "#### Sources used\n",
    "\n",
    "[source](https://www.trane.com/content/dam/Trane/Commercial/global/products-systems/education-training/engineers-newsletters/waterside-design/ADM-APN051-EN.pdf)\n",
    "\n",
    "#### Resulting reasonable assumptions\n",
    "\n",
    "Due to the similarity of the CHW flow an tonnage, we can use the evaporator nominal pressure drop from the source of 15kPa."
   ]
  },
  {
   "cell_type": "markdown",
   "id": "excess-bridges",
   "metadata": {},
   "source": [
    "### Condenser, WSE"
   ]
  },
  {
   "cell_type": "code",
   "execution_count": null,
   "id": "conventional-appearance",
   "metadata": {},
   "outputs": [],
   "source": []
  },
  {
   "cell_type": "markdown",
   "id": "surface-general",
   "metadata": {},
   "source": [
    "### Cooling Tower\n",
    "\n",
    "Approach temperature [Source (PG&E, leaving tower water temperature minus ambient wet bulb\n",
    "temperature](https://www.pge.com/includes/docs/pdfs/mybusiness/energysavingsrebates/incentivesbyindustry/DataCenters_BestPractices.pdf) recommends 5 - 7 F, \n",
    "conservatively assuming"
   ]
  },
  {
   "cell_type": "code",
   "execution_count": 7,
   "id": "fewer-vietnam",
   "metadata": {},
   "outputs": [],
   "source": [
    "approachT = 4 #K"
   ]
  },
  {
   "cell_type": "markdown",
   "id": "hydraulic-collar",
   "metadata": {},
   "source": [
    "### Sizing the tower fan"
   ]
  },
  {
   "cell_type": "code",
   "execution_count": 14,
   "id": "genetic-argentina",
   "metadata": {},
   "outputs": [
    {
     "name": "stdout",
     "output_type": "stream",
     "text": [
      "T_cond_in_max_C: 24\n",
      "T_wet_bulb_max_C: 23\n"
     ]
    }
   ],
   "source": [
    "# cold water temperature (entering the condenser)\n",
    "T_cond_in_max = 297 #K\n",
    "T_wet_bulb_max = 296 #K\n",
    "\n",
    "T_cond_in_max_C = 297 - 273 #K\n",
    "T_wet_bulb_max_C = 296 - 273 #K\n",
    "\n",
    "print(\"T_cond_in_max_C:\", T_cond_in_max_C)\n",
    "print(\"T_wet_bulb_max_C:\", T_wet_bulb_max_C)"
   ]
  },
  {
   "cell_type": "code",
   "execution_count": null,
   "id": "alive-television",
   "metadata": {},
   "outputs": [],
   "source": []
  },
  {
   "cell_type": "code",
   "execution_count": 34,
   "id": "anticipated-czech",
   "metadata": {},
   "outputs": [],
   "source": [
    "# Pauls method based on ASHRAE Standard 550 / 590\n",
    "\n",
    "# ASHRAE Standard 550 / 590, [source](https://www.trane.com/content/dam/Trane/Commercial/global/products-systems/education-training/engineers-newsletters/waterside-design/adm-apn045-en_0912.pdf) \n",
    "# Tower is sized at 3.0 GPM per ton of plant capacity.  Note that some designs reduce this to 2.0 or 2.5 GPM per ton. \n",
    "# Chiller efficiency is .57 KW / Ton.  Some machines are even more efficient - but it is hard to get much better \n",
    "# than .5 KW / ton at design conditions.\n",
    "# Tower fan efficiency .046 KW / Ton\n",
    "# Condenser water pump .054 KW / Ton\n",
    "# Tower + Pump = .1 KW / Ton\n",
    "\n",
    "# In terms of overall plant energy use it is valuable to think of the overall plant running around .6 - .8 KW / Ton.  \n",
    "# Of that amount 85% is attributable to the chiller and roughly 15% to the tower fan and pump.  \n",
    "# So in terms of the overall lift done by the plant \n",
    "# (difference between the CHW temperature and the outdoor air wet bulb) - the tower is roughly \n",
    "# five times more efficient than the chiller.  This is due mostly to the fact that the tower is evaporating water - rather \n",
    "# than trying to mechanically cool it.  So the more work we can have the tower due and the less the chiller needs to do the better.  \n",
    "# This is why strategies like the use of WSE and CDW are so effective in reducing total plant efficiency."
   ]
  },
  {
   "cell_type": "code",
   "execution_count": 40,
   "id": "chicken-kenya",
   "metadata": {},
   "outputs": [
    {
     "name": "stdout",
     "output_type": "stream",
     "text": [
      "Tower nominal fan power is thus:  6.532 kW\n"
     ]
    }
   ],
   "source": [
    "# Tower fan efficiency .046 KW / Ton\n",
    "print(\"Tower nominal fan power is thus: \", .046 * 142, \"kW\")"
   ]
  },
  {
   "cell_type": "code",
   "execution_count": 39,
   "id": "psychological-germany",
   "metadata": {},
   "outputs": [
    {
     "data": {
      "text/plain": [
       "18.200000000000003"
      ]
     },
     "execution_count": 39,
     "metadata": {},
     "output_type": "execute_result"
    }
   ],
   "source": [
    "# Condenser water flow check\n",
    "# 3 gpm is 0.14 kg/s\n",
    "0.14*130"
   ]
  },
  {
   "cell_type": "code",
   "execution_count": null,
   "id": "bulgarian-shock",
   "metadata": {},
   "outputs": [],
   "source": []
  }
 ],
 "metadata": {
  "kernelspec": {
   "display_name": "py36",
   "language": "python",
   "name": "py36"
  },
  "language_info": {
   "codemirror_mode": {
    "name": "ipython",
    "version": 3
   },
   "file_extension": ".py",
   "mimetype": "text/x-python",
   "name": "python",
   "nbconvert_exporter": "python",
   "pygments_lexer": "ipython3",
   "version": "3.6.9"
  }
 },
 "nbformat": 4,
 "nbformat_minor": 5
}
