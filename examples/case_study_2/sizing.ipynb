{
 "cells": [
  {
   "cell_type": "markdown",
   "id": "organizational-client",
   "metadata": {},
   "source": [
    "# Sizing assumptions"
   ]
  },
  {
   "cell_type": "markdown",
   "id": "cardiovascular-standard",
   "metadata": {},
   "source": [
    "## Airloop flow"
   ]
  },
  {
   "cell_type": "code",
   "execution_count": 1,
   "id": "remarkable-activation",
   "metadata": {},
   "outputs": [
    {
     "name": "stdout",
     "output_type": "stream",
     "text": [
      "28.205128205128208\n",
      "59763.28128296531\n"
     ]
    }
   ],
   "source": [
    "# assumptions for nominal supply airflow\n",
    "m = 33 #kg/s\n",
    "dT = 15 #K\n",
    "c = 1005 #J/(kg*K)\n",
    "ro = 1.17 # kg/m^3\n",
    "V = m/ro\n",
    "print(V)\n",
    "\n",
    "V_cfm = V/0.00047194745\n",
    "print(V_cfm)"
   ]
  },
  {
   "cell_type": "code",
   "execution_count": 2,
   "id": "infectious-facility",
   "metadata": {},
   "outputs": [
    {
     "data": {
      "text/plain": [
       "0.13484212857142858"
      ]
     },
     "execution_count": 2,
     "metadata": {},
     "output_type": "execute_result"
    }
   ],
   "source": [
    "V*200/0.7/V_cfm"
   ]
  },
  {
   "cell_type": "markdown",
   "id": "provincial-capitol",
   "metadata": {},
   "source": [
    "### Airflow efficiency ratio\n",
    "\n",
    "[source s5 examples by stulz.de](https://www.stulz.de/de/newsroom/blog/aer-eine-neue-kennzahl-fuer-die-effizienz-von-luftbewegung-in-rechenzentren-352/), \n",
    "using specific supply air fan power slightly above example 1 (0.11 W/(m3/h)) in the assumptions below:\n",
    "\n",
    "We assume dT of 15 deg for the airflow (also used in souce s6)"
   ]
  },
  {
   "cell_type": "code",
   "execution_count": 3,
   "id": "liable-playing",
   "metadata": {},
   "outputs": [
    {
     "name": "stdout",
     "output_type": "stream",
     "text": [
      "Resulting AER is 0.11337913514181469\n"
     ]
    }
   ],
   "source": [
    "P_supply_fan = 11303.8 #W\n",
    "V_air_supply_fan = 27.6942*3600 #m3/h\n",
    "# airflow efficiency ratio, AER\n",
    "AER = P_supply_fan / V_air_supply_fan\n",
    "print(\"Resulting AER is\", AER)"
   ]
  },
  {
   "cell_type": "markdown",
   "id": "attractive-provincial",
   "metadata": {},
   "source": [
    "## Chilled water flow\n",
    "\n",
    "[source s1](https://www.trane.com/content/dam/Trane/Commercial/global/products-systems/education-training/engineers-newsletters/waterside-design/ADM-APN051-EN.pdf)"
   ]
  },
  {
   "cell_type": "code",
   "execution_count": 4,
   "id": "representative-encoding",
   "metadata": {},
   "outputs": [
    {
     "name": "stdout",
     "output_type": "stream",
     "text": [
      "134.57142857142858\n",
      "12.735206787600003 ; In our model we assume 12 kg/s\n"
     ]
    }
   ],
   "source": [
    "Cn = 471000 #W\n",
    "Cn_ton = Cn/3500\n",
    "print(Cn_ton)\n",
    "\n",
    "# rule from the source \n",
    "V_gpm_min = 1.2 * Cn_ton\n",
    "V_gpm = 1.5 * Cn_ton\n",
    "\n",
    "V = V_gpm * 0.0000630901964\n",
    "ro_w = 1000\n",
    "m_chw_flow_nominal = V * ro_w\n",
    "print(m_chw_flow_nominal, \"; In our model we assume\", 12, \"kg/s\")"
   ]
  },
  {
   "cell_type": "code",
   "execution_count": 5,
   "id": "continent-filing",
   "metadata": {},
   "outputs": [
    {
     "name": "stdout",
     "output_type": "stream",
     "text": [
      "Our model nominal evaporator flow in gpm/ton is: 1.4134046113429595\n",
      "Source provides for a 130 ton chiller a nominal evaporator flow in gpm/ton of 1.5\n"
     ]
    }
   ],
   "source": [
    "m_chw_flow_nominal = 12 #kg/s\n",
    "m_chw_flow_nominal_gpm = (12/1000)/0.0000630901964\n",
    "print(\"Our model nominal evaporator flow in gpm/ton is:\", m_chw_flow_nominal_gpm/Cn_ton)\n",
    "print(\"Source provides for a 130 ton chiller a nominal evaporator flow in gpm/ton of\", 1.5)"
   ]
  },
  {
   "cell_type": "markdown",
   "id": "reduced-domestic",
   "metadata": {},
   "source": [
    "### Condenser water flow check"
   ]
  },
  {
   "cell_type": "code",
   "execution_count": 6,
   "id": "cardiac-snake",
   "metadata": {},
   "outputs": [
    {
     "data": {
      "text/plain": [
       "(18.200000000000003, 'Our nominal value is about', 20, 'kg/s')"
      ]
     },
     "execution_count": 6,
     "metadata": {},
     "output_type": "execute_result"
    }
   ],
   "source": [
    "#  Paul's method based on ASHRAE Standard 550 / 590 : Tower is sized at 3.0 GPM per ton of plant capacity (3 gpm is 0.14 kg/s). See section 1.5 in this notebook - I copied over the content of the email\n",
    "0.14*130, \"Our nominal value is about\", 20, \"kg/s\""
   ]
  },
  {
   "cell_type": "markdown",
   "id": "certified-plaintiff",
   "metadata": {},
   "source": [
    "## Condenser, evaporator, coil, and WSE pressure drops\n",
    "\n",
    "### Chiller (based on a 150 ton Carrier Screw Chiller)\n",
    "[source s3](https://chillerscarrier.com/assets/30xw-9pd.pdf)"
   ]
  },
  {
   "cell_type": "code",
   "execution_count": 7,
   "id": "maritime-charm",
   "metadata": {},
   "outputs": [
    {
     "name": "stdout",
     "output_type": "stream",
     "text": [
      "Adjusted nominal evaporator pressure drop: 18.95783068821084  kPa\n",
      "Adjusted nominal condenser pressure drop: 42.089538809766864  kPa\n"
     ]
    }
   ],
   "source": [
    "# data chiller\n",
    "# data chiller scaled down to 133 ton\n",
    "# model chiller of 133 ton with modified nominal flows\n",
    "\n",
    "# Assuming the geometry of the condenser and evaporator heat exchangers is such that the HX tubes are slightly narrower\n",
    "# for a 133 ton chiller compared to a 150 ton chiller (these are shell-and-tube HX, see images). \n",
    "\n",
    "# As there is a rule (see source s1) where the nominal flow scales linearly with the chiller tonnage, we assume a linearly proportional to the tonnage decrease in\n",
    "# both nominal evaporator and condenser flow for such equivalent to the data source chiller that has 133 tons\n",
    "\n",
    "# Since the tubes of such equivalent chiller are assumed narrower, we will say that the 133 ton flows produce the same pressure drops as the 150 ton chiller from the data\n",
    "\n",
    "\n",
    "#from the data\n",
    "tonnage_data = 150\n",
    "# from our model\n",
    "tonnage_model = 133\n",
    "\n",
    "# from the data\n",
    "evap_dp = 33.2 #kPa\n",
    "evap_flow = 17.91 #kg/s\n",
    "# our model\n",
    "m_chw_flow_nominal = 12 #kg/s\n",
    "\n",
    "# from the data\n",
    "cond_dp = 42.1 #kPa\n",
    "cond_flow = 22.39 #kg/s\n",
    "# our model\n",
    "m_cw_flow_nominal = 39.7/2 #kg/s\n",
    "\n",
    "# as in our model the 133 ton chiller has modifications to the nominal flow. As the flow velocity is directly proportional to the mass flow, and the pressure drop depends on the square of the velocity,\n",
    "# our model pressure drops can be approximated as:\n",
    "\n",
    "evap_dp_adjusted = evap_dp * (m_chw_flow_nominal/(evap_flow*(133/150)))**2\n",
    "print(\"Adjusted nominal evaporator pressure drop:\", evap_dp_adjusted, \" kPa\")\n",
    "cond_dp_adjusted = cond_dp * (m_cw_flow_nominal/(cond_flow*(133/150)))**2\n",
    "print(\"Adjusted nominal condenser pressure drop:\", cond_dp_adjusted, \" kPa\")\n",
    "\n"
   ]
  },
  {
   "cell_type": "markdown",
   "id": "separated-hepatitis",
   "metadata": {},
   "source": [
    "### Cooling tower\n",
    "\n",
    "Based on [source s4](https://www.baltimoreaircoil.com/download_api_endpoint/1178/j120_tr_pumpingpiping_20150914.pdf) most flow resistances can be neglected and we will consider the pumping to overcome the height difference."
   ]
  },
  {
   "cell_type": "code",
   "execution_count": 8,
   "id": "prescription-works",
   "metadata": {},
   "outputs": [
    {
     "name": "stdout",
     "output_type": "stream",
     "text": [
      "Tower dp is:  14.715 kPa\n"
     ]
    }
   ],
   "source": [
    "ro_w = 1000 # kJ/(kg*K)\n",
    "gr = 9.81 #kg/(s2)\n",
    "height = 1.5 #m, 5ft - confirmed per communication with Paul\n",
    "\n",
    "coo_tow_dp = ro_w * gr * height\n",
    "print(\"Tower dp is: \",coo_tow_dp/1000, \"kPa\")"
   ]
  },
  {
   "cell_type": "markdown",
   "id": "saving-travel",
   "metadata": {},
   "source": [
    "### Cooling coil\n",
    "\n",
    "#### Airside"
   ]
  },
  {
   "cell_type": "markdown",
   "id": "lyric-tracy",
   "metadata": {},
   "source": [
    "Pressure resisting elements: coil, short duct and plenum: we assume 200 Pa, also corresponds well with this [source s6](https://www.trane.com/content/dam/Trane/Commercial/global/products-systems/education-training/engineers-newsletters/standards-codes/ADM-APN070-EN_06032019.pdf), assuming that the coil would have a larger cross-area but remain similar accross the flow direction. Our chosen value is also reasonable when comparing to the materials provided in [source s7](https://www.trane.com/content/dam/Trane/Commercial/global/products-systems/education-training/continuing-education-gbci-aia-pdh/HVAC-Coil-Selection-and-Optimization/APP-CMC054-EN_course%20material.pdf)\n",
    "\n",
    "\n",
    "note: plenum and short duct almost negligible, assume they participate with about 5-10% in the total airloop flow resistance pressure drop\n",
    "\n",
    "source_flow = 7000 #cfm\n",
    "\n",
    "source_dp = 0.7 #in H2O\n",
    "\n",
    "our_flow = 57209 cfm\n",
    "\n",
    "our_dp = 0.803729\n",
    "\n",
    "#### Waterside\n",
    "\n",
    "Average from [source s6, table 1]"
   ]
  },
  {
   "cell_type": "code",
   "execution_count": 9,
   "id": "elegant-joyce",
   "metadata": {},
   "outputs": [
    {
     "data": {
      "text/plain": [
       "24061.988545"
      ]
     },
     "execution_count": 9,
     "metadata": {},
     "output_type": "execute_result"
    }
   ],
   "source": [
    "m_chw = 12\n",
    "\n",
    "ft_H2O_avg = (11.2 + 4.7 + 11.1 + 5.2)/4\n",
    "ft_H2O_avg_Pa = ft_H2O_avg * 2989.0669\n",
    "\n",
    "# assuming the water flow pipes are laminated such that the increase in nominal capacity comes from adding more capacity in parallel \n",
    "# (see laminated piping image in the source),\n",
    "# we can assume that the pressure drop remains the same as a smaller capacity is chosen for a lower flow\n",
    "dp = ft_H2O_avg_Pa\n",
    "dp"
   ]
  },
  {
   "cell_type": "markdown",
   "id": "varied-europe",
   "metadata": {},
   "source": [
    "### Waterside economizer (WSE)\n",
    "\n",
    "[Source s9](https://www.taylor-engineering.com/wp-content/uploads/2020/04/ASHRAE_Journal_-_How_to_Design_Control_Waterside_Economizers.pdf)\n",
    "\n",
    "\"The heat exchanger pressure drop on the condenser water side should be similar to that of the condensers so the flow rate will be similar when serving either the condensers or heat exchanger. On the chilled water side, pressure drop is typically limited to about 5 or 6 psi (34 or 41 kPa) to limit the chilled water pump energy impact.\""
   ]
  },
  {
   "cell_type": "code",
   "execution_count": 10,
   "id": "static-alpha",
   "metadata": {},
   "outputs": [
    {
     "name": "stdout",
     "output_type": "stream",
     "text": [
      "WSE pressure drop on the condenser water side: 42.089538809766864\n",
      "WSE pressure drop on the chilled water side: 15.382100231855864\n"
     ]
    }
   ],
   "source": [
    "# assume nominal pressure drop on the condenser water side equals the pressure drop through condenser\n",
    "wse_dp_cond_side = cond_dp_adjusted\n",
    "print(\"WSE pressure drop on the condenser water side:\", wse_dp_cond_side)\n",
    "\n",
    "# assume the same pressure drop on the evaporator side as on the condenser water side and adjust for the chilled water nominal flow\n",
    "wse_dp_evap_side = wse_dp_cond_side * (m_chw_flow_nominal/m_cw_flow_nominal)**2\n",
    "print(\"WSE pressure drop on the chilled water side:\", wse_dp_evap_side)"
   ]
  },
  {
   "cell_type": "markdown",
   "id": "floating-moment",
   "metadata": {},
   "source": [
    "## Cooling tower\n",
    "\n",
    "Approach temperature [Source s10 (PG&E, leaving tower water temperature minus ambient wet bulb\n",
    "temperature](https://www.pge.com/includes/docs/pdfs/mybusiness/energysavingsrebates/incentivesbyindustry/DataCenters_BestPractices.pdf) recommends 5 - 7 F, \n",
    "conservatively assuming"
   ]
  },
  {
   "cell_type": "code",
   "execution_count": 11,
   "id": "wooden-morning",
   "metadata": {},
   "outputs": [],
   "source": [
    "approachT = 4 #K"
   ]
  },
  {
   "cell_type": "markdown",
   "id": "capable-developer",
   "metadata": {},
   "source": [
    "### Sizing the tower fan"
   ]
  },
  {
   "cell_type": "code",
   "execution_count": 12,
   "id": "intermediate-nebraska",
   "metadata": {},
   "outputs": [
    {
     "name": "stdout",
     "output_type": "stream",
     "text": [
      "T_cond_in_max_C: 24\n",
      "T_wet_bulb_max_C: 23\n"
     ]
    }
   ],
   "source": [
    "# cold water temperature (entering the condenser)\n",
    "T_cond_in_max = 297 #K\n",
    "T_wet_bulb_max = 296 #K\n",
    "\n",
    "T_cond_in_max_C = 297 - 273 #K\n",
    "T_wet_bulb_max_C = 296 - 273 #K\n",
    "\n",
    "print(\"T_cond_in_max_C:\", T_cond_in_max_C)\n",
    "print(\"T_wet_bulb_max_C:\", T_wet_bulb_max_C)"
   ]
  },
  {
   "cell_type": "markdown",
   "id": "closing-service",
   "metadata": {},
   "source": [
    "**Paul's method based on ASHRAE Standard 550 / 590**\n",
    " \n",
    "ASHRAE Standard 550 / 590, [source](https://www.trane.com/content/dam/Trane/Commercial/global/products-systems/education-training/engineers-newsletters/waterside-design/adm-apn045-en_0912.pdf) \n",
    "\n",
    "Tower is sized at 3.0 GPM per ton of plant capacity.  Note that some designs reduce this to 2.0 or 2.5 GPM per ton. \n",
    "Chiller efficiency is .57 KW / Ton.  Some machines are even more efficient - but it is hard to get much better \n",
    "than .5 KW / ton at design conditions.\n",
    "\n",
    "Tower fan efficiency .046 KW / Ton\n",
    "\n",
    "Condenser water pump .054 KW / Ton\n",
    "\n",
    "Tower + Pump = .1 KW / Ton\n",
    "\n",
    "In terms of overall plant energy use it is valuable to think of the overall plant running around .6 - .8 KW / Ton.  \n",
    "Of that amount 85% is attributable to the chiller and roughly 15% to the tower fan and pump.  \n",
    "So in terms of the overall lift done by the plant (difference between the CHW temperature and the outdoor air wet bulb) - the tower is roughly five times more efficient than the chiller.  This is due mostly to the fact that the tower is evaporating water - rather than trying to mechanically cool it.  So the more work we can have the tower do and the less the chiller needs to do the better.  This is why strategies like the use of WSE and CDW are so effective in reducing total plant efficiency."
   ]
  },
  {
   "cell_type": "code",
   "execution_count": 13,
   "id": "allied-outside",
   "metadata": {},
   "outputs": [
    {
     "name": "stdout",
     "output_type": "stream",
     "text": [
      "Tower nominal fan power is thus:  6.532 kW\n"
     ]
    }
   ],
   "source": [
    "# Tower fan efficiency .046 KW / Ton\n",
    "print(\"Tower nominal fan power is thus: \", .046 * 142, \"kW\")"
   ]
  },
  {
   "cell_type": "markdown",
   "id": "average-asian",
   "metadata": {},
   "source": [
    "## Piping/Fittings pressure drops\n",
    "\n",
    "[source s11](https://www.advantageengineering.com/fyi/166/advantageFYI166.php)\n",
    "\n",
    "6\" CW at 2200 Pa/100ft\n",
    "\n",
    "5\" CHW at 2300 Pa/100ft"
   ]
  },
  {
   "cell_type": "markdown",
   "id": "excess-killing",
   "metadata": {},
   "source": [
    "The piping length assumption are compiled in a spreadsheet [here](https://docs.google.com/spreadsheets/d/1XtaqeURHSJD2tsk9S-GBtri8GY4wZl62JM6LV3KOiVo/edit?usp=sharing). The assumption is that there is:\n",
    "\n",
    "- In the base controller case: 10m of pipe in each chiller condenser and WSE condenser side, and 20m of pipe in the dedicated cooling tower loop.\n",
    "\n",
    "- In the alternative controller case: 30m of pipe in the condenser water loop\n",
    "\n",
    "- In both: 30m of pipe in the chilled water loop.\n",
    "\n",
    "To account for all the fittings, including butterfly isolation valves we doubled the resistance obtained for the pipe length. Additional 6kPa are added for each modulating valve.\n",
    "\n",
    "Please see the ChillerPlant package models for how the sizing values were applied. The piping resistances are for the most part passed as pressure drops in valves.\n",
    "\n",
    "Note that the piping pressure differences are provided directly in the models, not in the base class."
   ]
  },
  {
   "cell_type": "markdown",
   "id": "closed-campus",
   "metadata": {},
   "source": [
    "## IT and non-IT data center loads\n",
    "[source s12](https://www.apcdistributors.com/white-papers/Cooling/WP-25%20Calculating%20Total%20Cooling%20Requirements%20for%20Data%20Centers.pdf), Table 1. suggests 29% non-IT. Reducing the value to 20% non-IT assuming a 50% data center computing capacity average utilization factor"
   ]
  },
  {
   "cell_type": "code",
   "execution_count": 18,
   "id": "greenhouse-gamma",
   "metadata": {},
   "outputs": [
    {
     "name": "stdout",
     "output_type": "stream",
     "text": [
      "400000.0\n",
      "100000.0\n"
     ]
    }
   ],
   "source": [
    "total = 500000 # W\n",
    "it_loads = 0.8 * total\n",
    "non_it_loads = (total - it_loads)\n",
    "\n",
    "print(it_loads)\n",
    "print(non_it_loads)"
   ]
  },
  {
   "cell_type": "code",
   "execution_count": null,
   "id": "owned-gardening",
   "metadata": {},
   "outputs": [],
   "source": []
  }
 ],
 "metadata": {
  "kernelspec": {
   "display_name": "py36",
   "language": "python",
   "name": "py36"
  },
  "language_info": {
   "codemirror_mode": {
    "name": "ipython",
    "version": 3
   },
   "file_extension": ".py",
   "mimetype": "text/x-python",
   "name": "python",
   "nbconvert_exporter": "python",
   "pygments_lexer": "ipython3",
   "version": "3.6.9"
  }
 },
 "nbformat": 4,
 "nbformat_minor": 5
}
