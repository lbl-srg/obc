{
 "cells": [
  {
   "cell_type": "markdown",
   "metadata": {},
   "source": [
    "# Post-processing of case studies"
   ]
  },
  {
   "cell_type": "code",
   "execution_count": 11,
   "metadata": {
    "scrolled": false
   },
   "outputs": [],
   "source": [
    "import os\n",
    "import cases\n",
    "\n",
    "import matplotlib.pyplot as plt\n",
    "\n",
    "from buildingspy.io.outputfile import Reader\n",
    "from buildingspy.io.postprocess import Plotter"
   ]
  },
  {
   "cell_type": "code",
   "execution_count": 12,
   "metadata": {},
   "outputs": [],
   "source": [
    "def save_plot(figure, file_name):\n",
    "    \"\"\" Save the figure to a pdf and png file\n",
    "    \"\"\"\n",
    "    figure.savefig('{}.pdf'.format(file_name))\n",
    "    figure.savefig('{}.png'.format(file_name))"
   ]
  },
  {
   "cell_type": "code",
   "execution_count": 13,
   "metadata": {},
   "outputs": [],
   "source": [
    "# Read data\n",
    "\n",
    "# read annual data for both base and g36 case\n",
    "r_base_annual=Reader(cases.get_result_file_name('annual_base'), \"dymola\")\n",
    "r_g36_annual=Reader(cases.get_result_file_name('annual_g36'), \"dymola\")\n",
    "\n",
    "# case indices for seasonal data\n",
    "base = 0\n",
    "g36 = 1\n",
    "\n",
    "# initiate and populate array holding winter data for both base and g36 case\n",
    "r_winter = list()\n",
    "r_winter.insert(base, Reader(cases.get_result_file_name('winter_base'), \"dymola\"))\n",
    "r_winter.insert(g36, Reader(cases.get_result_file_name('winter_g36'), \"dymola\"))\n",
    "\n",
    "# array holding spring data for both base and g36 case\n",
    "r_spring = list()\n",
    "r_spring.insert(base, Reader(cases.get_result_file_name('spring_base'), \"dymola\"))\n",
    "r_spring.insert(g36, Reader(cases.get_result_file_name('spring_g36'), \"dymola\"))\n",
    "\n",
    "# array holding summer data for both base and g36 case\n",
    "r_summer = list()\n",
    "r_summer.insert(base, Reader(cases.get_result_file_name('summer_base'), \"dymola\"))\n",
    "r_summer.insert(g36, Reader(cases.get_result_file_name('summer_g36'), \"dymola\"))"
   ]
  },
  {
   "cell_type": "markdown",
   "metadata": {},
   "source": [
    "## Room temperatures"
   ]
  },
  {
   "cell_type": "code",
   "execution_count": 52,
   "metadata": {},
   "outputs": [],
   "source": [
    "def plot_room_temp(readers):\n",
    "    ''' Main method that plots the results\n",
    "    '''\n",
    "    from buildingspy.io.outputfile import Reader\n",
    "    import matplotlib.pyplot as plt\n",
    "    import matplotlib\n",
    "\n",
    "    # Optionally, change fonts to use LaTeX fonts\n",
    "    #from matplotlib import rc\n",
    "    #rc('text', usetex=True)\n",
    "    #rc('font', family='serif')\n",
    "    \n",
    "    font = {'family' : 'serif',\n",
    "            'weight' : 'normal',\n",
    "            'size'   : 6}\n",
    "    matplotlib.rc('font', **font)\n",
    "    \n",
    "    plt.clf()\n",
    "    \n",
    "    time_scale=86400.\n",
    "    \n",
    "    cases = ['Base case', 'Guideline 36']\n",
    "    num_cases = len(cases)\n",
    "    \n",
    "    # Read results\n",
    "    for i in range(num_cases):\n",
    "        (t, TOut) = readers[i].values(\"weaBus.TDryBul\")\n",
    "        t = t/time_scale\n",
    "\n",
    "        TRoo = list()\n",
    "        reader=readers[i]\n",
    "        TRoo.insert(0, reader.values(\"flo.nor.air.vol.T\")[1])\n",
    "        TRoo.insert(1, reader.values(\"flo.wes.air.vol.T\")[1])\n",
    "        TRoo.insert(2, reader.values(\"flo.sou.air.vol.T\")[1])\n",
    "        TRoo.insert(3, reader.values(\"flo.eas.air.vol.T\")[1])\n",
    "        TRoo.insert(4, reader.values(\"flo.cor.air.vol.T\")[1])\n",
    "\n",
    "        TSetHea = reader.values(\"conVAVCor.TRooHeaSet\")[1]\n",
    "        TSetCoo = reader.values(\"conVAVCor.TRooCooSet\")[1]\n",
    "\n",
    "        # Generate figure and plot data\n",
    "        ax = plt.subplot(num_cases, 1, i+1)\n",
    "\n",
    "        ax.plot(t, TOut-273.15,    'k', label='$T_{out}$', linewidth=0.5)\n",
    "        ax.plot(t, TRoo[0]-273.15, 'b',  label='$T_{nor}$', linewidth=0.5)\n",
    "        ax.plot(t, TRoo[1]-273.15, 'g',  label='$T_{wes}$', linewidth=0.5)\n",
    "        ax.plot(t, TRoo[2]-273.15, 'r',  label='$T_{sou}$', linewidth=0.5)\n",
    "        ax.plot(t, TRoo[3]-273.15, 'c',  label='$T_{eas}$', linewidth=0.5)\n",
    "        ax.plot(t, TRoo[4]-273.15, 'g',  label='$T_{cor}$', linewidth=0.5)\n",
    "\n",
    "        ax.patch.set_facecolor('mistyrose')    \n",
    "        ax.fill_between(t, TSetHea-273.15, y2=TSetCoo-273.15, color='white')\n",
    "\n",
    "        # Print x axis title only below the lowest plot\n",
    "        if i == num_cases - 1:\n",
    "            ax.set_xlabel('time [days]')\n",
    "        ax.set_ylabel('temperature [$^\\circ$C]')\n",
    "        #ax.xaxis.set_ticks(np.arange(min(t)+0, 365, 1))\n",
    "\n",
    "        ax.set_xlim([min(t)+5, min(t)+12])\n",
    " \n",
    "        ax.legend(loc='center right', ncol=1)\n",
    "        # Comment the next line out if providing case indicator in the figure caption instead\n",
    "        ax.set_title(cases[i])\n",
    "\n",
    "        # Add a secondary axis with temperatures represented in F\n",
    "        ax_F = ax.twinx()\n",
    "        # Get limits to match with the left axis\n",
    "        ax_F.set_ylim([tem_conv_CtoF(ax.get_ylim()[0]),tem_conv_CtoF(ax.get_ylim()[1])])\n",
    "        # plot a \"scaler\" variable and make it invisible\n",
    "        ax_F.plot(t, tem_conv_CtoF(TOut-273.15), linewidth=0.0)\n",
    "        ax_F.set_ylabel('temperature [$^\\circ$F]')\n",
    "        ax_F.grid(True)\n",
    "        \n",
    "        plt.tight_layout()\n",
    "\n",
    "    return plt\n",
    "\n",
    "def tem_conv_CtoF(T_in_degC):\n",
    "    '''Converts temperature provided in degC to degF\n",
    "    '''\n",
    "    T_in_degF = (T_in_degC)*9./5. + 32.\n",
    "    \n",
    "    return T_in_degF\n",
    "\n",
    "# Create the plots, one per season with two subplots (base case and g36)\n",
    "fig = plot_room_temp(r_winter)\n",
    "save_plot(fig, \"TRoom_winter\")\n",
    "fig = plot_room_temp(r_spring)\n",
    "save_plot(fig, \"TRoom_spring\")\n",
    "fig = plot_room_temp(r_summer)\n",
    "save_plot(fig, \"TRoom_summer\")"
   ]
  },
  {
   "cell_type": "markdown",
   "metadata": {},
   "source": [
    "# Energy consumption"
   ]
  },
  {
   "cell_type": "code",
   "execution_count": null,
   "metadata": {
    "scrolled": true
   },
   "outputs": [],
   "source": [
    "def plot_energy(r_base, r_g36):\n",
    "    from buildingspy.io.outputfile import Reader\n",
    "    import matplotlib.pyplot as plt\n",
    "    import matplotlib\n",
    "    \n",
    "    font = {'family' : 'serif',\n",
    "            'weight' : 'normal',\n",
    "            'size'   : 10}\n",
    "    matplotlib.rc('font', **font)\n",
    "    \n",
    "    plt.clf()    \n",
    "\n",
    "    # Conversion to kWh/m2\n",
    "    conv = 1/3600./1000.\n",
    "    readers = [r_base, r_g36]\n",
    "    width = 0.5       # the width of the bars: can also be len(x) sequence\n",
    "\n",
    "    hea    = [0., 0.]\n",
    "    cooSen = [0., 0.]\n",
    "    cooLat = [0., 0.]\n",
    "    fan    = [0., 0.]\n",
    "    cooLatBas = [0., 0.]\n",
    "    fanBas = [0., 0.]\n",
    "    \n",
    "    idx = [0, 1]\n",
    "    for i in idx:\n",
    "        hea[i]    =  readers[i].values('res.EHea')[1][-1] * conv\n",
    "        cooSen[i] = -readers[i].values('res.ECooSen')[1][-1] * conv\n",
    "        cooLat[i] = -readers[i].values('res.ECooLat')[1][-1] * conv\n",
    "        fan[i]    =  readers[i].values('res.EFan')[1][-1] * conv\n",
    "        cooLatBas[i] = hea[i] + cooSen[i]\n",
    "        fanBas[i]    = cooLatBas[i] + cooLat[i]\n",
    "        \n",
    "    p1 = plt.bar(idx, hea, width, color='r')\n",
    "    p2 = plt.bar(idx, cooSen, width, bottom=hea, color='g')\n",
    "    p3 = plt.bar(idx, cooLat, width, bottom=cooLatBas, color='b')\n",
    "    p4 = plt.bar(idx, fan,    width, bottom=fanBas, color='k')\n",
    "        \n",
    "    plt.ylabel('energy use [kWh/m2]')\n",
    "    plt.xticks([0+width/2., 1+width/2.], ('base case', 'guideline 36'))\n",
    "    #plt.yticks(np.arange(0, 81, 10))\n",
    "    plt.legend((p1[0], p2[0], p3[0], p4[0]), \\\n",
    "               ('heating', 'sensible cooling', 'latent cooling', 'fan'), \\\n",
    "              loc='upper left')\n",
    "    \n",
    "    \n",
    "    save_plot(plt, \"energy\")\n",
    "plot_energy(r_base_annual, r_g36_annual)"
   ]
  },
  {
   "cell_type": "markdown",
   "metadata": {},
   "source": [
    "## Diagnostics"
   ]
  },
  {
   "cell_type": "code",
   "execution_count": null,
   "metadata": {},
   "outputs": [],
   "source": [
    "print(\"Average outdoor air intake, base {} kg/s\".format(r_base_annual.mean('eco.port_Out.m_flow')))\n",
    "print(\"Average outdoor air intake, G36  {} kg/s\".format(r_g36_annual.mean( 'eco.port_Out.m_flow')))\n",
    "\n",
    "print(\"CPUtime, base {} h\".format(r_base_annual.values('CPUtime')[1][-1]/3600.))\n",
    "print(\"CPUtime, G36  {} h\".format(r_g36_annual.values( 'CPUtime')[1][-1]/3600.))"
   ]
  },
  {
   "cell_type": "code",
   "execution_count": null,
   "metadata": {},
   "outputs": [],
   "source": [
    "(t, y) = r_base_annual.values('flo.sou.air.vol.T')\n",
    "plt.clf()\n",
    "plt=Plotter.boxplot(t=t, y=y-273.15, increment=3600, nIncrement=24)\n",
    "\n",
    "# Decorate, save and show the plot\n",
    "plt.xlabel('Time [h]') \n",
    "plt.ylabel(u'Room temperature [$^\\circ$C]') \n",
    "plt.grid()\n",
    "plt.savefig(\"roomTemperatures.png\")\n",
    "plt.savefig(\"roomTemperatures.pdf\")\n",
    "plt.title('South zone, base case')\n",
    "#plt.show() "
   ]
  },
  {
   "cell_type": "markdown",
   "metadata": {},
   "source": [
    "## Energy use"
   ]
  },
  {
   "cell_type": "code",
   "execution_count": null,
   "metadata": {},
   "outputs": [],
   "source": []
  },
  {
   "cell_type": "code",
   "execution_count": null,
   "metadata": {},
   "outputs": [],
   "source": []
  }
 ],
 "metadata": {
  "kernelspec": {
   "display_name": "Python 2",
   "language": "python",
   "name": "python2"
  },
  "language_info": {
   "codemirror_mode": {
    "name": "ipython",
    "version": 2
   },
   "file_extension": ".py",
   "mimetype": "text/x-python",
   "name": "python",
   "nbconvert_exporter": "python",
   "pygments_lexer": "ipython2",
   "version": "2.7.12"
  }
 },
 "nbformat": 4,
 "nbformat_minor": 1
}
